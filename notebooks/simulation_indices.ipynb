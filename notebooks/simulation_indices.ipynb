{
 "cells": [
  {
   "cell_type": "code",
   "execution_count": 5,
   "metadata": {},
   "outputs": [],
   "source": [
    "import pandas as pd\n",
    "import numpy as np\n",
    "import subprocess\n",
    "import random\n",
    "from scipy import stats\n",
    "import glob\n",
    "import math\n",
    "import csv\n",
    "import sys\n",
    "import os\n",
    "\n",
    "import matplotlib.pyplot as plt\n",
    "from matplotlib import animation\n",
    "import seaborn as sns\n",
    "plt.rcParams['figure.figsize'] = (20.0, 10.0)\n",
    "plt.rcParams['font.family'] = \"serif\"\n",
    "%matplotlib inline"
   ]
  },
  {
   "cell_type": "code",
   "execution_count": 8,
   "metadata": {},
   "outputs": [],
   "source": [
    "# declarations\n",
    "idx_dir = \"/ccb/salz8-1/avaraby/tx_noise/indices/\"\n",
    "hg38_fa = \"/home/avaraby1/genomes/human/hg38/hg38_p8.fa\"\n",
    "annotation_path = \"/ccb/salz3/avaraby/chess/versions/curRelease/chess2.2_assembly.gtf\"\n",
    "\n",
    "hisat_path = \"/ccb/salz8-1/avaraby/agar_manuscript/soft/AGAR2/external/hisat2/hisat2\"\n",
    "gffread_path = \"gffread\"\n",
    "kallisto_path = \"/home/avaraby1/soft/kallisto/kallisto\"\n",
    "salmon_path = \"/home/avaraby1/soft/salmon-latest_linux_x86_64/bin/salmon\"\n",
    "\n",
    "num_threads = 24"
   ]
  },
  {
   "cell_type": "code",
   "execution_count": 7,
   "metadata": {},
   "outputs": [
    {
     "data": {
      "text/plain": [
       "0"
      ]
     },
     "execution_count": 7,
     "metadata": {},
     "output_type": "execute_result"
    }
   ],
   "source": [
    "cmd_real = [gffread_path,\n",
    "            \"-w\",idx_dir+\"annotation.fasta\",\n",
    "            \"-g\",hg38_fa,\n",
    "            annotation_path]\n",
    "subprocess.call(cmd_real)"
   ]
  },
  {
   "cell_type": "code",
   "execution_count": null,
   "metadata": {},
   "outputs": [],
   "source": [
    "# build salmon and hisat2 indices\n",
    "f=open(idx_dir+\"annotation.exons\",\"wb\")\n",
    "subprocess.call([hisat_path+\"_extract_exons.py\",\n",
    "                 annotation_path],\n",
    "                 stdout=f)\n",
    "f.close()\n",
    "f=open(idx_dir+\"annotation.ss\",\"wb\")\n",
    "subprocess.call([hisat_path+\"_extract_splice_sites.py\",\n",
    "                 chess],\n",
    "                 stdout=f)\n",
    "f.close()\n",
    "subprocess.call([hisat_path+\"-build\",\n",
    "                 hg38_fa,\n",
    "                 idx_dir+\"annotation.hisat\",\n",
    "                 \"-p\",str(num_threads),\n",
    "                 \"--ss\",idx_dir+\"annotation.ss\",\n",
    "                 \"--exon\",idx_dir+\"annotation.exons\"])\n",
    "\n",
    "subprocess.call([\"salmon\",\"index\",\n",
    "                 \"-t\",idx_dir+\"annotation.fasta\",\n",
    "                 \"-p\",str(num_threads),\n",
    "                 \"-i\",idx_dir+\"annotation.salmon\"])\n",
    "\n",
    "subprocess.call([\"kallisto\",\"index\",\n",
    "                 \"-i\",idx_dir+\"annotation.kallisto\",\n",
    "                 idx_dir+\"annotation.fasta\"])"
   ]
  }
 ],
 "metadata": {
  "kernelspec": {
   "display_name": "Python 3",
   "language": "python",
   "name": "python3"
  },
  "language_info": {
   "codemirror_mode": {
    "name": "ipython",
    "version": 3
   },
   "file_extension": ".py",
   "mimetype": "text/x-python",
   "name": "python",
   "nbconvert_exporter": "python",
   "pygments_lexer": "ipython3",
   "version": "3.7.3"
  }
 },
 "nbformat": 4,
 "nbformat_minor": 2
}
