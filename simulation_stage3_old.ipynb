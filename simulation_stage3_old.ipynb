{
 "cells": [
  {
   "cell_type": "code",
   "execution_count": 1,
   "metadata": {},
   "outputs": [],
   "source": [
    "import pandas as pd\n",
    "import numpy as np\n",
    "import subprocess\n",
    "import random\n",
    "from scipy import stats\n",
    "import glob\n",
    "import math\n",
    "import csv\n",
    "import sys\n",
    "import os\n",
    "\n",
    "import matplotlib.pyplot as plt\n",
    "from matplotlib import animation\n",
    "import seaborn as sns\n",
    "plt.rcParams['figure.figsize'] = (20.0, 10.0)\n",
    "plt.rcParams['font.family'] = \"serif\"\n",
    "%matplotlib inline"
   ]
  },
  {
   "cell_type": "code",
   "execution_count": 2,
   "metadata": {},
   "outputs": [],
   "source": [
    "# declarations\n",
    "base_dir_data = \"/ccb/salz8-1/avaraby/tx_noise/data/\"\n",
    "base_dir_out = \"/ccb/salz8-1/avaraby/tx_noise/GTEx_aggs/\"\n",
    "out_dir = \"/ccb/salz8-1/avaraby/tx_noise/sim_samples/\"\n",
    "hg38_fa = \"/home/avaraby1/genomes/human/hg38/hg38_p8.fa\"\n",
    "\n",
    "readlen = 101\n",
    "num_samples = 1\n",
    "\n",
    "gff3cols=[\"seqid\",\"source\",\"type\",\"start\",\"end\",\"score\",\"strand\",\"phase\",\"attributes\"]"
   ]
  },
  {
   "cell_type": "code",
   "execution_count": 3,
   "metadata": {},
   "outputs": [],
   "source": [
    "# Here we need to implement a method for converting TPM information into\n",
    "# coverage information for polyester\n",
    "# we can do this by following the REM implementation of the TPM to number of reads conversion"
   ]
  },
  {
   "cell_type": "code",
   "execution_count": 3,
   "metadata": {},
   "outputs": [
    {
     "data": {
      "text/html": [
       "<div>\n",
       "<style scoped>\n",
       "    .dataframe tbody tr th:only-of-type {\n",
       "        vertical-align: middle;\n",
       "    }\n",
       "\n",
       "    .dataframe tbody tr th {\n",
       "        vertical-align: top;\n",
       "    }\n",
       "\n",
       "    .dataframe thead th {\n",
       "        text-align: right;\n",
       "    }\n",
       "</style>\n",
       "<table border=\"1\" class=\"dataframe\">\n",
       "  <thead>\n",
       "    <tr style=\"text-align: right;\">\n",
       "      <th></th>\n",
       "      <th>readlen</th>\n",
       "    </tr>\n",
       "  </thead>\n",
       "  <tbody>\n",
       "    <tr>\n",
       "      <th>0</th>\n",
       "      <td>60585115.0</td>\n",
       "    </tr>\n",
       "    <tr>\n",
       "      <th>1</th>\n",
       "      <td>62097360.0</td>\n",
       "    </tr>\n",
       "    <tr>\n",
       "      <th>2</th>\n",
       "      <td>65533065.0</td>\n",
       "    </tr>\n",
       "    <tr>\n",
       "      <th>3</th>\n",
       "      <td>65023731.0</td>\n",
       "    </tr>\n",
       "    <tr>\n",
       "      <th>4</th>\n",
       "      <td>65535944.0</td>\n",
       "    </tr>\n",
       "  </tbody>\n",
       "</table>\n",
       "</div>"
      ],
      "text/plain": [
       "      readlen\n",
       "0  60585115.0\n",
       "1  62097360.0\n",
       "2  65533065.0\n",
       "3  65023731.0\n",
       "4  65535944.0"
      ]
     },
     "execution_count": 3,
     "metadata": {},
     "output_type": "execute_result"
    }
   ],
   "source": [
    "# first load the distribution of the number of reads per sample\n",
    "readlen_stats = pd.read_csv(\"/ccb/salz8-1/avaraby/tx_noise/readlen.stats\",usecols=[\"readlen\"])\n",
    "readlen_stats.head()"
   ]
  },
  {
   "cell_type": "code",
   "execution_count": 5,
   "metadata": {},
   "outputs": [
    {
     "name": "stdout",
     "output_type": "stream",
     "text": [
      "84243837.0\n"
     ]
    }
   ],
   "source": [
    "for i in range(num_samples):\n",
    "    total_nreads = readlen_stats.sample().iloc[0].readlen\n",
    "    print(total_nreads)\n",
    "    \n",
    "    real = pd.read_csv(out_dir+\"real.sample\"+str(i)+\".gtf\",sep=\"\\t\",names=gff3cols)\n",
    "    real[\"tid\"] = real[\"attributes\"].str.split(\"transcript_id \\\"\",expand=True)[1].str.split(\"\\\"\",expand=True)[0]\n",
    "    real[\"gid\"] = real[\"attributes\"].str.split(\"gene_id \\\"\",expand=True)[1].str.split(\"\\\"\",expand=True)[0]\n",
    "    realt = real[real[\"type\"]==\"transcript\"][[\"tid\",\"gid\"]].reset_index(drop=True) # intended for order\n",
    "    reale = real[real[\"type\"]==\"exon\"].reset_index(drop=True)\n",
    "    reale[\"elen\"] = reale[\"end\"]-reale[\"start\"]\n",
    "    reale = reale[[\"tid\",\"elen\"]]\n",
    "    reale = reale.groupby(\"tid\").agg({\"elen\":\"sum\"}).reset_index()\n",
    "    assert set(realt[\"tid\"])==set(reale[\"tid\"]),\"number of transcripts is not the same as number of groupped exons\"\n",
    "    reale = realt.merge(reale,how=\"left\",on=\"tid\")\n",
    "    tpms = pd.read_csv(out_dir+\"real.sample\"+str(i)+\".exp\",names=[\"tpm\"])\n",
    "    assert len(tpms)==len(reale),\"number of tpms different from the number of transcripts\"\n",
    "    reale[\"tpm\"] = tpms[\"tpm\"]\n",
    "\n",
    "    splicing = pd.read_csv(out_dir+\"splicing.sample\"+str(i)+\".gtf\",sep=\"\\t\",names=gff3cols)\n",
    "    splicing[\"tid\"] = splicing[\"attributes\"].str.split(\"transcript_id \\\"\",expand=True)[1].str.split(\"\\\"\",expand=True)[0]\n",
    "    splicing[\"gid\"] = splicing[\"attributes\"].str.split(\"gene_id \\\"\",expand=True)[1].str.split(\"\\\"\",expand=True)[0]\n",
    "    splicingt = splicing[splicing[\"type\"]==\"transcript\"][[\"tid\",\"gid\"]].reset_index(drop=True) # intended for order\n",
    "    splicinge = splicing[splicing[\"type\"]==\"exon\"].reset_index(drop=True)\n",
    "    splicinge[\"elen\"] = splicinge[\"end\"]-splicinge[\"start\"]\n",
    "    splicinge = splicinge[[\"tid\",\"elen\"]]\n",
    "    splicinge = splicinge.groupby(\"tid\").agg({\"elen\":\"sum\"}).reset_index()\n",
    "    assert set(splicingt[\"tid\"])==set(splicinge[\"tid\"]),\"number of transcripts is not the same as number of groupped exons\"\n",
    "    splicinge = splicingt.merge(splicinge,how=\"left\",on=\"tid\")\n",
    "    tpms = pd.read_csv(out_dir+\"splicing.sample\"+str(i)+\".exp\",names=[\"tpm\"])\n",
    "    assert len(tpms)==len(splicinge),\"number of tpms different from the number of transcripts\"\n",
    "    splicinge[\"tpm\"] = tpms[\"tpm\"]\n",
    "\n",
    "    intronic = pd.read_csv(out_dir+\"intronic.sample\"+str(i)+\".gtf\",sep=\"\\t\",names=gff3cols)\n",
    "    intronic[\"tid\"] = intronic[\"attributes\"].str.split(\"transcript_id \\\"\",expand=True)[1].str.split(\"\\\"\",expand=True)[0]\n",
    "    intronic[\"gid\"] = intronic[\"attributes\"].str.split(\"gene_id \\\"\",expand=True)[1].str.split(\"\\\"\",expand=True)[0]\n",
    "    intronict = intronic[intronic[\"type\"]==\"transcript\"][[\"tid\",\"gid\"]].reset_index(drop=True) # intended for order\n",
    "    intronice = intronic[intronic[\"type\"]==\"exon\"].reset_index(drop=True)\n",
    "    intronice[\"elen\"] = intronice[\"end\"]-intronice[\"start\"]\n",
    "    intronice = intronice[[\"tid\",\"elen\"]]\n",
    "    intronice = intronice.groupby(\"tid\").agg({\"elen\":\"sum\"}).reset_index()\n",
    "    assert set(intronict[\"tid\"])==set(intronice[\"tid\"]),\"number of transcripts is not the same as number of groupped exons\"\n",
    "    intronice = intronict.merge(intronice,how=\"left\",on=\"tid\")\n",
    "    tpms = pd.read_csv(out_dir+\"intronic.sample\"+str(i)+\".exp\",names=[\"tpm\"])\n",
    "    assert len(tpms)==len(intronice),\"number of tpms different from the number of transcripts\"\n",
    "    intronice[\"tpm\"] = tpms[\"tpm\"]\n",
    "\n",
    "    pol = pd.read_csv(out_dir+\"pol.sample\"+str(i)+\".gtf\",sep=\"\\t\",names=gff3cols)\n",
    "    pol[\"tid\"] = pol[\"attributes\"].str.split(\"transcript_id \\\"\",expand=True)[1].str.split(\"\\\"\",expand=True)[0]\n",
    "    pol[\"gid\"] = pol[\"attributes\"].str.split(\"gene_id \\\"\",expand=True)[1].str.split(\"\\\"\",expand=True)[0]\n",
    "    polt = pol[pol[\"type\"]==\"transcript\"][[\"tid\",\"gid\"]].reset_index(drop=True) # intended for order\n",
    "    pole = pol[pol[\"type\"]==\"exon\"].reset_index(drop=True)\n",
    "    pole[\"elen\"] = pole[\"end\"]-pole[\"start\"]\n",
    "    pole = pole[[\"tid\",\"elen\"]]\n",
    "    pole = pole.groupby(\"tid\").agg({\"elen\":\"sum\"}).reset_index()\n",
    "    assert set(polt[\"tid\"])==set(pole[\"tid\"]),\"number of transcripts is not the same as number of groupped exons\"\n",
    "    pole = polt.merge(pole,how=\"left\",on=\"tid\")\n",
    "\n",
    "    tpms = pd.read_csv(out_dir+\"pol.sample\"+str(i)+\".exp\",names=[\"tpm\"])\n",
    "    assert len(tpms)==len(pole),\"number of tpms different from the number of transcripts\"\n",
    "    pole[\"tpm\"] = tpms[\"tpm\"]\n",
    "    joined = pd.concat([reale[[\"tid\",\"elen\",\"tpm\"]],splicinge[[\"tid\",\"elen\",\"tpm\"]],intronice[[\"tid\",\"elen\",\"tpm\"]],pole[[\"tid\",\"elen\",\"tpm\"]]],axis=0).reset_index(drop=True)\n",
    "    joined[\"theta\"] = joined[\"elen\"]*joined[\"tpm\"]\n",
    "    denom = joined[\"theta\"].sum()\n",
    "    joined[\"cor\"] = joined[\"theta\"]/denom\n",
    "    # tids = np.random.choice(joined[\"tid\"],total_nreads,p=joined[\"cor\"])\n",
    "    # tid_df = pd.DataFrame(tids,columns=[\"tid\"]).groupby(\"tid\").agg({\"tid\":{\"count\":\"count\"}}).reset_index()\n",
    "    # tid_df.columns = [\"tid\",\"count\"]\n",
    "    # now that we have all these values, we \n",
    "    joined[\"cov\"] = (joined[\"cor\"]*total_nreads*readlen)/joined[\"elen\"]\n",
    "    # now we can merge the data to comply with the original ordering\n",
    "    # and proceed to write it out\n",
    "    realt.merge(joined[[\"tid\",\"cov\"]],how=\"left\",on=\"tid\")[[\"cov\"]].to_csv(out_dir+\"real.sample\"+str(i)+\".exp2\",index=False,header=False)\n",
    "    splicingt.merge(joined[[\"tid\",\"cov\"]],how=\"left\",on=\"tid\")[[\"cov\"]].to_csv(out_dir+\"splicing.sample\"+str(i)+\".exp2\",index=False,header=False)\n",
    "    intronict.merge(joined[[\"tid\",\"cov\"]],how=\"left\",on=\"tid\")[[\"cov\"]].to_csv(out_dir+\"intronic.sample\"+str(i)+\".exp2\",index=False,header=False)\n",
    "    polt.merge(joined[[\"tid\",\"cov\"]],how=\"left\",on=\"tid\")[[\"cov\"]].to_csv(out_dir+\"pol.sample\"+str(i)+\".exp2\",index=False,header=False)"
   ]
  },
  {
   "cell_type": "code",
   "execution_count": null,
   "metadata": {},
   "outputs": [],
   "source": []
  },
  {
   "cell_type": "code",
   "execution_count": null,
   "metadata": {},
   "outputs": [],
   "source": []
  },
  {
   "cell_type": "code",
   "execution_count": null,
   "metadata": {},
   "outputs": [],
   "source": []
  },
  {
   "cell_type": "code",
   "execution_count": null,
   "metadata": {},
   "outputs": [],
   "source": []
  },
  {
   "cell_type": "code",
   "execution_count": null,
   "metadata": {},
   "outputs": [],
   "source": []
  },
  {
   "cell_type": "code",
   "execution_count": null,
   "metadata": {},
   "outputs": [],
   "source": []
  },
  {
   "cell_type": "code",
   "execution_count": null,
   "metadata": {},
   "outputs": [],
   "source": []
  },
  {
   "cell_type": "code",
   "execution_count": null,
   "metadata": {},
   "outputs": [],
   "source": []
  },
  {
   "cell_type": "code",
   "execution_count": null,
   "metadata": {},
   "outputs": [],
   "source": []
  },
  {
   "cell_type": "code",
   "execution_count": null,
   "metadata": {},
   "outputs": [],
   "source": []
  },
  {
   "cell_type": "code",
   "execution_count": null,
   "metadata": {},
   "outputs": [],
   "source": []
  },
  {
   "cell_type": "code",
   "execution_count": null,
   "metadata": {},
   "outputs": [],
   "source": []
  },
  {
   "cell_type": "code",
   "execution_count": null,
   "metadata": {},
   "outputs": [],
   "source": []
  },
  {
   "cell_type": "code",
   "execution_count": null,
   "metadata": {},
   "outputs": [],
   "source": []
  },
  {
   "cell_type": "code",
   "execution_count": null,
   "metadata": {},
   "outputs": [],
   "source": []
  },
  {
   "cell_type": "code",
   "execution_count": 194,
   "metadata": {},
   "outputs": [
    {
     "data": {
      "text/html": [
       "<div>\n",
       "<style scoped>\n",
       "    .dataframe tbody tr th:only-of-type {\n",
       "        vertical-align: middle;\n",
       "    }\n",
       "\n",
       "    .dataframe tbody tr th {\n",
       "        vertical-align: top;\n",
       "    }\n",
       "\n",
       "    .dataframe thead th {\n",
       "        text-align: right;\n",
       "    }\n",
       "</style>\n",
       "<table border=\"1\" class=\"dataframe\">\n",
       "  <thead>\n",
       "    <tr style=\"text-align: right;\">\n",
       "      <th></th>\n",
       "      <th>gid</th>\n",
       "      <th>nt_real</th>\n",
       "      <th>tpm_real</th>\n",
       "      <th>nt_splicing</th>\n",
       "      <th>tpm_splicing</th>\n",
       "      <th>nt_intronic</th>\n",
       "      <th>tpm_intronic</th>\n",
       "      <th>nt_total</th>\n",
       "      <th>tpm_total</th>\n",
       "      <th>frac</th>\n",
       "      <th>frac_tpm_real</th>\n",
       "      <th>frac_tpm_splicing</th>\n",
       "      <th>frac_tpm_intronic</th>\n",
       "      <th>total_tpm_noise</th>\n",
       "    </tr>\n",
       "  </thead>\n",
       "  <tbody>\n",
       "    <tr>\n",
       "      <th>0</th>\n",
       "      <td>CHS.10</td>\n",
       "      <td>1</td>\n",
       "      <td>14.704000</td>\n",
       "      <td>0.0</td>\n",
       "      <td>10.17395</td>\n",
       "      <td>0.0</td>\n",
       "      <td>0.00000</td>\n",
       "      <td>1.0</td>\n",
       "      <td>24.877950</td>\n",
       "      <td>0.591045</td>\n",
       "      <td>0.591045</td>\n",
       "      <td>0.408955</td>\n",
       "      <td>0.000000</td>\n",
       "      <td>10.17395</td>\n",
       "    </tr>\n",
       "    <tr>\n",
       "      <th>1</th>\n",
       "      <td>CHS.100</td>\n",
       "      <td>1</td>\n",
       "      <td>15.184400</td>\n",
       "      <td>0.0</td>\n",
       "      <td>3.80915</td>\n",
       "      <td>0.0</td>\n",
       "      <td>0.00000</td>\n",
       "      <td>1.0</td>\n",
       "      <td>18.993550</td>\n",
       "      <td>0.799450</td>\n",
       "      <td>0.799450</td>\n",
       "      <td>0.200550</td>\n",
       "      <td>0.000000</td>\n",
       "      <td>3.80915</td>\n",
       "    </tr>\n",
       "    <tr>\n",
       "      <th>2</th>\n",
       "      <td>CHS.10001</td>\n",
       "      <td>1</td>\n",
       "      <td>4.284060</td>\n",
       "      <td>0.0</td>\n",
       "      <td>38.16840</td>\n",
       "      <td>0.0</td>\n",
       "      <td>0.00000</td>\n",
       "      <td>1.0</td>\n",
       "      <td>42.452460</td>\n",
       "      <td>0.100914</td>\n",
       "      <td>0.100914</td>\n",
       "      <td>0.899086</td>\n",
       "      <td>0.000000</td>\n",
       "      <td>38.16840</td>\n",
       "    </tr>\n",
       "    <tr>\n",
       "      <th>3</th>\n",
       "      <td>CHS.10003</td>\n",
       "      <td>4</td>\n",
       "      <td>2.850543</td>\n",
       "      <td>1.0</td>\n",
       "      <td>1.29866</td>\n",
       "      <td>1.0</td>\n",
       "      <td>1.37226</td>\n",
       "      <td>6.0</td>\n",
       "      <td>5.521463</td>\n",
       "      <td>0.687010</td>\n",
       "      <td>0.516266</td>\n",
       "      <td>0.312990</td>\n",
       "      <td>0.324964</td>\n",
       "      <td>2.67092</td>\n",
       "    </tr>\n",
       "    <tr>\n",
       "      <th>4</th>\n",
       "      <td>CHS.1001</td>\n",
       "      <td>9</td>\n",
       "      <td>27.314882</td>\n",
       "      <td>1.0</td>\n",
       "      <td>1.31249</td>\n",
       "      <td>1.0</td>\n",
       "      <td>1.00866</td>\n",
       "      <td>11.0</td>\n",
       "      <td>29.636032</td>\n",
       "      <td>0.954153</td>\n",
       "      <td>0.921678</td>\n",
       "      <td>0.045847</td>\n",
       "      <td>0.035612</td>\n",
       "      <td>2.32115</td>\n",
       "    </tr>\n",
       "  </tbody>\n",
       "</table>\n",
       "</div>"
      ],
      "text/plain": [
       "         gid  nt_real   tpm_real  nt_splicing  tpm_splicing  nt_intronic  \\\n",
       "0     CHS.10        1  14.704000          0.0      10.17395          0.0   \n",
       "1    CHS.100        1  15.184400          0.0       3.80915          0.0   \n",
       "2  CHS.10001        1   4.284060          0.0      38.16840          0.0   \n",
       "3  CHS.10003        4   2.850543          1.0       1.29866          1.0   \n",
       "4   CHS.1001        9  27.314882          1.0       1.31249          1.0   \n",
       "\n",
       "   tpm_intronic  nt_total  tpm_total      frac  frac_tpm_real  \\\n",
       "0       0.00000       1.0  24.877950  0.591045       0.591045   \n",
       "1       0.00000       1.0  18.993550  0.799450       0.799450   \n",
       "2       0.00000       1.0  42.452460  0.100914       0.100914   \n",
       "3       1.37226       6.0   5.521463  0.687010       0.516266   \n",
       "4       1.00866      11.0  29.636032  0.954153       0.921678   \n",
       "\n",
       "   frac_tpm_splicing  frac_tpm_intronic  total_tpm_noise  \n",
       "0           0.408955           0.000000         10.17395  \n",
       "1           0.200550           0.000000          3.80915  \n",
       "2           0.899086           0.000000         38.16840  \n",
       "3           0.312990           0.324964          2.67092  \n",
       "4           0.045847           0.035612          2.32115  "
      ]
     },
     "execution_count": 194,
     "metadata": {},
     "output_type": "execute_result"
    }
   ],
   "source": [
    "# first need to compute total contribution of each to the gene\n",
    "realg = reale[[\"gid\",\"tid\",\"tpm\"]].groupby(by=\"gid\").agg({\"tid\":\"count\",\"tpm\":\"sum\"}).reset_index()\n",
    "realg.columns = [\"gid\",\"nt_real\",\"tpm_real\"]\n",
    "splicingg = splicinge[[\"gid\",\"tid\",\"tpm\"]].groupby(by=\"gid\").agg({\"tid\":\"count\",\"tpm\":\"sum\"}).reset_index()\n",
    "splicingg.columns = [\"gid\",\"nt_splicing\",\"tpm_splicing\"]\n",
    "intronicg = intronice[[\"gid\",\"tid\",\"tpm\"]].groupby(by=\"gid\").agg({\"tid\":\"count\",\"tpm\":\"sum\"}).reset_index()\n",
    "intronicg.columns = [\"gid\",\"nt_intronic\",\"tpm_intronic\"]\n",
    "joined = realg.merge(splicingg,on=\"gid\",how=\"outer\",indicator=True)\n",
    "assert len(joined[joined[\"_merge\"]==\"right_only\"])==0,\"non-matching splicing loci\"\n",
    "joined.drop(\"_merge\",axis=1,inplace=True)\n",
    "joined = joined.merge(intronicg,on=\"gid\",how=\"outer\",indicator=True)\n",
    "assert len(joined[joined[\"_merge\"]==\"right_only\"])==0,\"non-matching intronic loci\"\n",
    "joined.drop(\"_merge\",axis=1,inplace=True)\n",
    "joined[\"nt_splicing\"] = joined.nt_intronic.fillna(0)\n",
    "joined[\"tpm_splicing\"] = joined.tpm_splicing.fillna(0)\n",
    "joined[\"nt_intronic\"] = joined.nt_intronic.fillna(0)\n",
    "joined[\"tpm_intronic\"] = joined.tpm_intronic.fillna(0)\n",
    "joined[\"nt_total\"] = joined.nt_real+joined.nt_splicing+joined.nt_intronic\n",
    "joined[\"tpm_total\"] = joined.tpm_real+joined.tpm_splicing+joined.tpm_intronic\n",
    "joined[\"frac\"] = joined[\"tpm_real\"]/(joined[\"tpm_real\"]+joined[\"tpm_splicing\"])\n",
    "joined[\"frac_tpm_real\"] = joined.tpm_real/joined.tpm_total\n",
    "joined[\"frac_tpm_splicing\"] = joined.tpm_splicing/(joined.tpm_real+joined.tpm_splicing)\n",
    "joined[\"frac_tpm_intronic\"] = joined.tpm_intronic/(joined.tpm_real+joined.tpm_intronic)\n",
    "# rounding numbers\n",
    "# joined[\"tpm_real\"] = joined[\"tpm_real\"].apply(np.ceil)\n",
    "# joined[\"tpm_splicing\"] = joined[\"tpm_splicing\"].apply(np.ceil)\n",
    "# joined[\"tpm_intronic\"] = joined[\"tpm_intronic\"].apply(np.ceil)\n",
    "joined[\"total_tpm_noise\"] = joined[\"tpm_splicing\"]+joined[\"tpm_intronic\"]\n",
    "joined.head()"
   ]
  },
  {
   "cell_type": "code",
   "execution_count": 195,
   "metadata": {},
   "outputs": [
    {
     "name": "stdout",
     "output_type": "stream",
     "text": [
      "maximum common elemend is: 1.28683\n"
     ]
    },
    {
     "data": {
      "text/plain": [
       "<matplotlib.legend.Legend at 0x7f7c06c764e0>"
      ]
     },
     "execution_count": 195,
     "metadata": {},
     "output_type": "execute_result"
    },
    {
     "data": {
      "image/png": "[encoded data removed]",
      "text/plain": [
       "<Figure size 1000x700 with 1 Axes>"
      ]
     },
     "metadata": {
      "needs_background": "light"
     },
     "output_type": "display_data"
    }
   ],
   "source": [
    "fig = plt.subplots(figsize=(10,7),dpi=100)\n",
    "max_common = max(list(set(joined[\"tpm_real\"]).intersection(joined[\"tpm_splicing\"]).intersection(joined[\"tpm_intronic\"])))\n",
    "print(\"maximum common elemend is: \"+str(max_common))\n",
    "plt.hist(joined[joined[\"tpm_real\"]<1000][\"tpm_real\"],bins=100,alpha=0.5,label='real')\n",
    "plt.hist(joined[joined[\"tpm_splicing\"]<1000][\"tpm_splicing\"],bins=100,alpha=0.5,label='splicing')\n",
    "# plt.hist(joined[joined[\"tpm_intronic\"]<1000][\"tpm_intronic\"],bins=100,alpha=0.5,label='intronic')\n",
    "# plt.hist(joined[joined[\"total_tpm_noise\"]<1000][\"total_tpm_noise\"],bins=100,alpha=0.5,label='total_noise')\n",
    "plt.yscale(\"symlog\")\n",
    "plt.legend(loc='upper right')"
   ]
  },
  {
   "cell_type": "code",
   "execution_count": 196,
   "metadata": {},
   "outputs": [
    {
     "name": "stderr",
     "output_type": "stream",
     "text": [
      "No handles with labels found to put in legend.\n"
     ]
    },
    {
     "data": {
      "text/plain": [
       "<matplotlib.legend.Legend at 0x7f7c02758c18>"
      ]
     },
     "execution_count": 196,
     "metadata": {},
     "output_type": "execute_result"
    },
    {
     "data": {
      "image/png": "[encoded data removed]",
      "text/plain": [
       "<Figure size 1000x700 with 1 Axes>"
      ]
     },
     "metadata": {
      "needs_background": "light"
     },
     "output_type": "display_data"
    }
   ],
   "source": [
    "fig = plt.subplots(figsize=(10,7),dpi=100)\n",
    "plt.hist(joined[joined[\"frac\"]<1.0][\"frac\"],alpha=0.5,bins=100)\n",
    "# plt.hist(joined[joined[\"frac_tpm_real\"]<1.0][\"frac_tpm_real\"],alpha=0.5,bins=100)\n",
    "# plt.hist(joined[joined[\"frac\"]<1.0][\"frac_tpm_splicing\"],alpha=0.5,bins=100)\n",
    "# plt.hist(joined[joined[\"frac_tpm_intronic\"]>0.1][\"frac_tpm_intronic\"],alpha=0.5,bins=100)\n",
    "plt.legend(loc='upper right')"
   ]
  },
  {
   "cell_type": "code",
   "execution_count": null,
   "metadata": {},
   "outputs": [],
   "source": [
    "# now to repeat the same for the computed statistics from gtex\n",
    "sum_df = pd.read_csv(base_dir_out+\"res.sum_tx_per_sample_loc\")\n",
    "sum_df = sum_df[sum_df[\"real\"]>0][[\"real\",\"splicing\",\"intronic\"]].reset_index(drop=True)\n",
    "# now to compare the expression distributions of each\n",
    "fig1, axes = plt.subplots(ncols=1,nrows=1,figsize=(10,7),dpi=100)\n",
    "\n",
    "plt.hist(sum_df[sum_df[\"real\"]<10000][\"real\"],bins=100, alpha=0.5, label='real')\n",
    "plt.hist(sum_df[sum_df[\"splicing\"]<10000][\"splicing\"],bins=100, alpha=0.5, label='splicing')\n",
    "plt.yscale(\"symlog\")\n",
    "plt.legend(loc='upper right')"
   ]
  },
  {
   "cell_type": "code",
   "execution_count": null,
   "metadata": {},
   "outputs": [],
   "source": [
    "sum_df.head()"
   ]
  },
  {
   "cell_type": "code",
   "execution_count": 113,
   "metadata": {},
   "outputs": [
    {
     "data": {
      "text/plain": [
       "array([[<matplotlib.axes._subplots.AxesSubplot object at 0x7f8d4c3c7d30>]],\n",
       "      dtype=object)"
      ]
     },
     "execution_count": 113,
     "metadata": {},
     "output_type": "execute_result"
    },
    {
     "data": {
      "image/png": "[encoded data removed]",
      "text/plain": [
       "<Figure size 432x288 with 1 Axes>"
      ]
     },
     "metadata": {
      "needs_background": "light"
     },
     "output_type": "display_data"
    }
   ],
   "source": [
    "sum_df[\"frac\"] = sum_df[\"real\"]/(sum_df[\"real\"]+sum_df[\"splicing\"]+sum_df[\"intronic\"])\n",
    "sum_df[sum_df[\"splicing\"]>0].hist(\"frac\",bins=100)"
   ]
  },
  {
   "cell_type": "code",
   "execution_count": 114,
   "metadata": {},
   "outputs": [
    {
     "name": "stderr",
     "output_type": "stream",
     "text": [
      "/home/avaraby1/anaconda3/lib/python3.7/site-packages/IPython/core/interactiveshell.py:3051: DtypeWarning: Columns (4,5,6) have mixed types. Specify dtype option on import or set low_memory=False.\n",
      "  interactivity=interactivity, compiler=compiler, result=result)\n"
     ]
    },
    {
     "data": {
      "text/html": [
       "<div>\n",
       "<style scoped>\n",
       "    .dataframe tbody tr th:only-of-type {\n",
       "        vertical-align: middle;\n",
       "    }\n",
       "\n",
       "    .dataframe tbody tr th {\n",
       "        vertical-align: top;\n",
       "    }\n",
       "\n",
       "    .dataframe thead th {\n",
       "        text-align: right;\n",
       "    }\n",
       "</style>\n",
       "<table border=\"1\" class=\"dataframe\">\n",
       "  <thead>\n",
       "    <tr style=\"text-align: right;\">\n",
       "      <th></th>\n",
       "      <th>real</th>\n",
       "      <th>splicing</th>\n",
       "      <th>intronic</th>\n",
       "      <th>polymerase</th>\n",
       "      <th>tpms_real</th>\n",
       "      <th>tpms_splicing</th>\n",
       "      <th>tpms_intronic</th>\n",
       "      <th>tpms_polymerase</th>\n",
       "    </tr>\n",
       "  </thead>\n",
       "  <tbody>\n",
       "    <tr>\n",
       "      <th>0</th>\n",
       "      <td>0</td>\n",
       "      <td>1</td>\n",
       "      <td>0</td>\n",
       "      <td>0</td>\n",
       "      <td>0</td>\n",
       "      <td>1.90275</td>\n",
       "      <td>0</td>\n",
       "      <td>0</td>\n",
       "    </tr>\n",
       "    <tr>\n",
       "      <th>1</th>\n",
       "      <td>1</td>\n",
       "      <td>0</td>\n",
       "      <td>0</td>\n",
       "      <td>0</td>\n",
       "      <td>1.96375</td>\n",
       "      <td>0</td>\n",
       "      <td>0</td>\n",
       "      <td>0</td>\n",
       "    </tr>\n",
       "    <tr>\n",
       "      <th>2</th>\n",
       "      <td>2</td>\n",
       "      <td>0</td>\n",
       "      <td>0</td>\n",
       "      <td>0</td>\n",
       "      <td>2.35289;2.45534</td>\n",
       "      <td>0</td>\n",
       "      <td>0</td>\n",
       "      <td>0</td>\n",
       "    </tr>\n",
       "    <tr>\n",
       "      <th>3</th>\n",
       "      <td>4</td>\n",
       "      <td>0</td>\n",
       "      <td>0</td>\n",
       "      <td>0</td>\n",
       "      <td>1.07493;1.64786;0.452526;0.428311</td>\n",
       "      <td>0</td>\n",
       "      <td>0</td>\n",
       "      <td>0</td>\n",
       "    </tr>\n",
       "    <tr>\n",
       "      <th>4</th>\n",
       "      <td>1</td>\n",
       "      <td>0</td>\n",
       "      <td>0</td>\n",
       "      <td>0</td>\n",
       "      <td>159.706</td>\n",
       "      <td>0</td>\n",
       "      <td>0</td>\n",
       "      <td>0</td>\n",
       "    </tr>\n",
       "  </tbody>\n",
       "</table>\n",
       "</div>"
      ],
      "text/plain": [
       "   real  splicing  intronic  polymerase                          tpms_real  \\\n",
       "0     0         1         0           0                                  0   \n",
       "1     1         0         0           0                            1.96375   \n",
       "2     2         0         0           0                    2.35289;2.45534   \n",
       "3     4         0         0           0  1.07493;1.64786;0.452526;0.428311   \n",
       "4     1         0         0           0                            159.706   \n",
       "\n",
       "  tpms_splicing tpms_intronic tpms_polymerase  \n",
       "0       1.90275             0               0  \n",
       "1             0             0               0  \n",
       "2             0             0               0  \n",
       "3             0             0               0  \n",
       "4             0             0               0  "
      ]
     },
     "execution_count": 114,
     "metadata": {},
     "output_type": "execute_result"
    }
   ],
   "source": [
    "tmp_tx = pd.read_csv(base_dir_out+\"res.num_tx_per_sample_loc5\")\n",
    "tmp_tx.head()"
   ]
  },
  {
   "cell_type": "code",
   "execution_count": 198,
   "metadata": {},
   "outputs": [],
   "source": [
    "tmp_tx_pol = tmp_tx[tmp_tx[\"polymerase\"]>0][[\"polymerase\",\"tpms_polymerase\"]]\n",
    "tmp_tx_nt = tmp_tx[tmp_tx[\"real\"]>0][[\"real\",\"splicing\",\"intronic\"]]\n",
    "tmp_tx_tpm = tmp_tx[tmp_tx[\"real\"]>0][[\"tpms_real\",\"tpms_splicing\",\"tpms_intronic\"]]"
   ]
  },
  {
   "cell_type": "code",
   "execution_count": 123,
   "metadata": {},
   "outputs": [
    {
     "data": {
      "text/html": [
       "<div>\n",
       "<style scoped>\n",
       "    .dataframe tbody tr th:only-of-type {\n",
       "        vertical-align: middle;\n",
       "    }\n",
       "\n",
       "    .dataframe tbody tr th {\n",
       "        vertical-align: top;\n",
       "    }\n",
       "\n",
       "    .dataframe thead th {\n",
       "        text-align: right;\n",
       "    }\n",
       "</style>\n",
       "<table border=\"1\" class=\"dataframe\">\n",
       "  <thead>\n",
       "    <tr style=\"text-align: right;\">\n",
       "      <th></th>\n",
       "      <th>polymerase</th>\n",
       "      <th>tpms_polymerase</th>\n",
       "      <th>tpm_total</th>\n",
       "    </tr>\n",
       "  </thead>\n",
       "  <tbody>\n",
       "    <tr>\n",
       "      <th>15549</th>\n",
       "      <td>1</td>\n",
       "      <td>57.2841</td>\n",
       "      <td>57.28410</td>\n",
       "    </tr>\n",
       "    <tr>\n",
       "      <th>15550</th>\n",
       "      <td>1</td>\n",
       "      <td>2.37964</td>\n",
       "      <td>2.37964</td>\n",
       "    </tr>\n",
       "    <tr>\n",
       "      <th>15551</th>\n",
       "      <td>1</td>\n",
       "      <td>1.66583</td>\n",
       "      <td>1.66583</td>\n",
       "    </tr>\n",
       "    <tr>\n",
       "      <th>15552</th>\n",
       "      <td>1</td>\n",
       "      <td>102.842</td>\n",
       "      <td>102.84200</td>\n",
       "    </tr>\n",
       "    <tr>\n",
       "      <th>15553</th>\n",
       "      <td>1</td>\n",
       "      <td>2.25518</td>\n",
       "      <td>2.25518</td>\n",
       "    </tr>\n",
       "  </tbody>\n",
       "</table>\n",
       "</div>"
      ],
      "text/plain": [
       "       polymerase tpms_polymerase  tpm_total\n",
       "15549           1         57.2841   57.28410\n",
       "15550           1         2.37964    2.37964\n",
       "15551           1         1.66583    1.66583\n",
       "15552           1         102.842  102.84200\n",
       "15553           1         2.25518    2.25518"
      ]
     },
     "execution_count": 123,
     "metadata": {},
     "output_type": "execute_result"
    }
   ],
   "source": [
    "tmp_tx_pol[\"tpm_total\"] = tmp_tx_pol[\"tpms_polymerase\"].str.split(';', expand=True).astype(float).sum(axis=1)\n",
    "tmp_tx_pol.head()"
   ]
  },
  {
   "cell_type": "code",
   "execution_count": 126,
   "metadata": {},
   "outputs": [
    {
     "data": {
      "image/png": "[encoded data removed]",
      "text/plain": [
       "<Figure size 432x288 with 1 Axes>"
      ]
     },
     "metadata": {
      "needs_background": "light"
     },
     "output_type": "display_data"
    }
   ],
   "source": [
    "tmp_tx_pol.hist(\"tpm_total\",bins=100)\n",
    "plt.yscale(\"symlog\")"
   ]
  },
  {
   "cell_type": "code",
   "execution_count": 127,
   "metadata": {},
   "outputs": [
    {
     "data": {
      "image/png": "[encoded data removed]",
      "text/plain": [
       "<Figure size 432x288 with 1 Axes>"
      ]
     },
     "metadata": {
      "needs_background": "light"
     },
     "output_type": "display_data"
    }
   ],
   "source": [
    "polg = pole[[\"gid\",\"tid\",\"tpm\"]].groupby(by=\"gid\").agg({\"tid\":\"count\",\"tpm\":\"sum\"}).reset_index()\n",
    "polg.columns = [\"gid\",\"nt\",\"tpm\"]\n",
    "polg.hist(\"tpm\",bins=100)\n",
    "plt.yscale(\"symlog\")"
   ]
  },
  {
   "cell_type": "code",
   "execution_count": null,
   "metadata": {},
   "outputs": [
    {
     "ename": "KeyboardInterrupt",
     "evalue": "",
     "output_type": "error",
     "traceback": [
      "\u001b[0;31m---------------------------------------------------------------------------\u001b[0m",
      "\u001b[0;31mKeyboardInterrupt\u001b[0m                         Traceback (most recent call last)",
      "\u001b[0;32m~/anaconda3/lib/python3.7/abc.py\u001b[0m in \u001b[0;36m__instancecheck__\u001b[0;34m(cls, instance)\u001b[0m\n\u001b[1;32m    135\u001b[0m             \u001b[0;32mreturn\u001b[0m \u001b[0m_abc_register\u001b[0m\u001b[0;34m(\u001b[0m\u001b[0mcls\u001b[0m\u001b[0;34m,\u001b[0m \u001b[0msubclass\u001b[0m\u001b[0;34m)\u001b[0m\u001b[0;34m\u001b[0m\u001b[0;34m\u001b[0m\u001b[0m\n\u001b[1;32m    136\u001b[0m \u001b[0;34m\u001b[0m\u001b[0m\n\u001b[0;32m--> 137\u001b[0;31m         \u001b[0;32mdef\u001b[0m \u001b[0m__instancecheck__\u001b[0m\u001b[0;34m(\u001b[0m\u001b[0mcls\u001b[0m\u001b[0;34m,\u001b[0m \u001b[0minstance\u001b[0m\u001b[0;34m)\u001b[0m\u001b[0;34m:\u001b[0m\u001b[0;34m\u001b[0m\u001b[0;34m\u001b[0m\u001b[0m\n\u001b[0m\u001b[1;32m    138\u001b[0m             \u001b[0;34m\"\"\"Override for isinstance(instance, cls).\"\"\"\u001b[0m\u001b[0;34m\u001b[0m\u001b[0;34m\u001b[0m\u001b[0m\n\u001b[1;32m    139\u001b[0m             \u001b[0;32mreturn\u001b[0m \u001b[0m_abc_instancecheck\u001b[0m\u001b[0;34m(\u001b[0m\u001b[0mcls\u001b[0m\u001b[0;34m,\u001b[0m \u001b[0minstance\u001b[0m\u001b[0;34m)\u001b[0m\u001b[0;34m\u001b[0m\u001b[0;34m\u001b[0m\u001b[0m\n",
      "\u001b[0;31mKeyboardInterrupt\u001b[0m: "
     ]
    },
    {
     "name": "stderr",
     "output_type": "stream",
     "text": [
      "Exception ignored in: 'pandas._libs.lib.c_is_list_like'\n",
      "Traceback (most recent call last):\n",
      "  File \"/home/avaraby1/anaconda3/lib/python3.7/abc.py\", line 137, in __instancecheck__\n",
      "    def __instancecheck__(cls, instance):\n",
      "KeyboardInterrupt\n"
     ]
    }
   ],
   "source": [
    "# tmp_tx_tpm = tmp_tx[tmp_tx[\"real\"]>0][[\"tpms_real\",\"tpms_splicing\",\"tpms_intronic\"]]\n",
    "tmp_tx_tpm[\"tpm_total_real\"] = tmp_tx_tpm[\"tpms_real\"].str.split(';', expand=True).astype(float).sum(axis=1)\n",
    "print(\"processing real\")\n",
    "tmp_tx_tpm[\"tpm_total_splicing\"] = tmp_tx_tpm[\"tpms_splicing\"].str.split(';', expand=True).astype(float).sum(axis=1)\n",
    "print(\"processing splicing\")\n",
    "tmp_tx_tpm[\"tpm_total_intronic\"] = tmp_tx_tpm[\"tpms_intronic\"].str.split(';', expand=True).astype(float).sum(axis=1)\n",
    "tmp_tx_tpm.head()"
   ]
  },
  {
   "cell_type": "code",
   "execution_count": null,
   "metadata": {},
   "outputs": [],
   "source": [
    "tmp_tx_tpm[\"tpm_total_noise\"] = tmp_tx_tpm[\"tpm_total_splicing\"]+tmp_tx_tpm[\"tpm_total_intronic\"]\n",
    "fig1, axes = plt.subplots(ncols=1,nrows=1,figsize=(10,7),dpi=100)\n",
    "\n",
    "plt.hist(tmp_tx_tpm[tmp_tx_tpm[\"tpm_total_real\"]<10000][\"real\"],bins=100, alpha=0.5, label='real')\n",
    "plt.hist(tmp_tx_tpm[tmp_tx_tpm[\"tpm_total_splicing\"]<10000][\"splicing\"],bins=100, alpha=0.5, label='splicing')\n",
    "plt.hist(tmp_tx_tpm[tmp_tx_tpm[\"tpm_total_ntronic\"]<10000][\"ntronic\"],bins=100, alpha=0.5, label='ntronic')\n",
    "plt.yscale(\"symlog\")\n",
    "plt.legend(loc='upper right')"
   ]
  }
 ],
 "metadata": {
  "kernelspec": {
   "display_name": "Python 3",
   "language": "python",
   "name": "python3"
  },
  "language_info": {
   "codemirror_mode": {
    "name": "ipython",
    "version": 3
   },
   "file_extension": ".py",
   "mimetype": "text/x-python",
   "name": "python",
   "nbconvert_exporter": "python",
   "pygments_lexer": "ipython3",
   "version": "3.7.3"
  }
 },
 "nbformat": 4,
 "nbformat_minor": 2
}
