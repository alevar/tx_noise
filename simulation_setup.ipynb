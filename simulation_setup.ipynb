{
 "cells": [
  {
   "cell_type": "code",
   "execution_count": 1,
   "metadata": {},
   "outputs": [],
   "source": [
    "import pandas as pd\n",
    "import numpy as np\n",
    "import subprocess\n",
    "import random\n",
    "from scipy import stats\n",
    "import glob\n",
    "import math\n",
    "import csv\n",
    "import sys\n",
    "import os\n",
    "\n",
    "import matplotlib.pyplot as plt\n",
    "from matplotlib import animation\n",
    "import seaborn as sns\n",
    "plt.rcParams['figure.figsize'] = (20.0, 10.0)\n",
    "plt.rcParams['font.family'] = \"serif\"\n",
    "%matplotlib inline"
   ]
  },
  {
   "cell_type": "code",
   "execution_count": null,
   "metadata": {},
   "outputs": [],
   "source": [
    "# let's begin putting together the transcriptome simulation set\n",
    "\n",
    "# What we need\n",
    "# number of transcripts to simulate (what is an average number of transcripts per tissue?)\n",
    "# number of loci (average for a tissue)\n",
    "# for each locus need to draw the number of transcripts of each category, such that the final distributions\n",
    "#     are close to tissue averages\n",
    "\n",
    "# then for each transcript need to draw from the distribution of total contribution to expression\n",
    "#     such that the final distributions resemble those observed in real data"
   ]
  },
  {
   "cell_type": "code",
   "execution_count": 25,
   "metadata": {},
   "outputs": [],
   "source": [
    "# declarations\n",
    "base_dir = \"/home/sparrow/JHU/gtex_stats/\"\n",
    "out_dir = \"/home/sparrow/JHU/tx_noise/\"\n",
    "hg38_fa = \"/home/sparrow/genomicData/hg38/hg38_p8.fa\"\n",
    "\n",
    "genRNAseq = \"/home/sparrow/genomicTools/genRNAseq_noFold_cov.R\"\n",
    "\n",
    "readlen = 101\n",
    "\n",
    "gff3cols=[\"seqid\",\"source\",\"type\",\"start\",\"end\",\"score\",\"strand\",\"phase\",\"attributes\"]"
   ]
  },
  {
   "cell_type": "code",
   "execution_count": 26,
   "metadata": {},
   "outputs": [],
   "source": [
    "# load base annotations\n",
    "real_baseDF = pd.read_csv(base_dir+\"data/ALL.combined.IDs.olny.in.ALL.combined.true.gtf\",sep=\"\\t\",names=gff3cols)\n",
    "real_baseDF = real_baseDF[real_baseDF[\"type\"]==\"transcript\"].reset_index(drop=True)\n",
    "nonint_baseDF = pd.read_csv(base_dir+\"data/ALL.combined.IDs.olny.in.ALL.combined.no.contained.non.intronic.gtf\",sep=\"\\t\",names=gff3cols)\n",
    "nonint_baseDF = nonint_baseDF[nonint_baseDF[\"type\"]==\"transcript\"].reset_index(drop=True)\n",
    "int_baseDF = pd.read_csv(base_dir+\"data/ALL.combined.IDs.olny.in.ALL.combined.no.contained.intronic.gtf\",sep=\"\\t\",names=gff3cols)\n",
    "int_baseDF = int_baseDF[int_baseDF[\"type\"]==\"transcript\"].reset_index(drop=True)\n",
    "pol_baseDF = pd.read_csv(base_dir+\"data/ALL.combined.IDs.olny.in.ALL.combined.no.contained.RNApol.gtf\",sep=\"\\t\",names=gff3cols)\n",
    "pol_baseDF = pol_baseDF[pol_baseDF[\"type\"]==\"transcript\"].reset_index(drop=True)"
   ]
  },
  {
   "cell_type": "code",
   "execution_count": 27,
   "metadata": {},
   "outputs": [
    {
     "name": "stdout",
     "output_type": "stream",
     "text": [
      "16878 10479 10981 26851\n"
     ]
    },
    {
     "data": {
      "text/html": [
       "<div>\n",
       "<style scoped>\n",
       "    .dataframe tbody tr th:only-of-type {\n",
       "        vertical-align: middle;\n",
       "    }\n",
       "\n",
       "    .dataframe tbody tr th {\n",
       "        vertical-align: top;\n",
       "    }\n",
       "\n",
       "    .dataframe thead th {\n",
       "        text-align: right;\n",
       "    }\n",
       "</style>\n",
       "<table border=\"1\" class=\"dataframe\">\n",
       "  <thead>\n",
       "    <tr style=\"text-align: right;\">\n",
       "      <th></th>\n",
       "      <th>seqid</th>\n",
       "      <th>source</th>\n",
       "      <th>type</th>\n",
       "      <th>start</th>\n",
       "      <th>end</th>\n",
       "      <th>score</th>\n",
       "      <th>strand</th>\n",
       "      <th>phase</th>\n",
       "      <th>attributes</th>\n",
       "      <th>lid</th>\n",
       "    </tr>\n",
       "  </thead>\n",
       "  <tbody>\n",
       "    <tr>\n",
       "      <th>0</th>\n",
       "      <td>chr1</td>\n",
       "      <td>StringTie</td>\n",
       "      <td>transcript</td>\n",
       "      <td>69091</td>\n",
       "      <td>70008</td>\n",
       "      <td>.</td>\n",
       "      <td>+</td>\n",
       "      <td>.</td>\n",
       "      <td>transcript_id \"ALL_00000003\"; gene_id \"XLOC_00...</td>\n",
       "      <td>XLOC_000002</td>\n",
       "    </tr>\n",
       "    <tr>\n",
       "      <th>1</th>\n",
       "      <td>chr1</td>\n",
       "      <td>StringTie</td>\n",
       "      <td>transcript</td>\n",
       "      <td>629081</td>\n",
       "      <td>629452</td>\n",
       "      <td>.</td>\n",
       "      <td>+</td>\n",
       "      <td>.</td>\n",
       "      <td>transcript_id \"ALL_00000006\"; gene_id \"XLOC_00...</td>\n",
       "      <td>XLOC_000005</td>\n",
       "    </tr>\n",
       "    <tr>\n",
       "      <th>2</th>\n",
       "      <td>chr1</td>\n",
       "      <td>StringTie</td>\n",
       "      <td>transcript</td>\n",
       "      <td>629503</td>\n",
       "      <td>630651</td>\n",
       "      <td>.</td>\n",
       "      <td>+</td>\n",
       "      <td>.</td>\n",
       "      <td>transcript_id \"ALL_00000008\"; gene_id \"XLOC_00...</td>\n",
       "      <td>XLOC_000005</td>\n",
       "    </tr>\n",
       "    <tr>\n",
       "      <th>3</th>\n",
       "      <td>chr1</td>\n",
       "      <td>StringTie</td>\n",
       "      <td>transcript</td>\n",
       "      <td>778760</td>\n",
       "      <td>810065</td>\n",
       "      <td>.</td>\n",
       "      <td>+</td>\n",
       "      <td>.</td>\n",
       "      <td>transcript_id \"ALL_00028685\"; gene_id \"XLOC_00...</td>\n",
       "      <td>XLOC_000007</td>\n",
       "    </tr>\n",
       "    <tr>\n",
       "      <th>4</th>\n",
       "      <td>chr1</td>\n",
       "      <td>StringTie</td>\n",
       "      <td>transcript</td>\n",
       "      <td>817371</td>\n",
       "      <td>819834</td>\n",
       "      <td>.</td>\n",
       "      <td>+</td>\n",
       "      <td>.</td>\n",
       "      <td>transcript_id \"ALL_00000055\"; gene_id \"XLOC_00...</td>\n",
       "      <td>XLOC_000008</td>\n",
       "    </tr>\n",
       "  </tbody>\n",
       "</table>\n",
       "</div>"
      ],
      "text/plain": [
       "  seqid     source        type   start     end score strand phase  \\\n",
       "0  chr1  StringTie  transcript   69091   70008     .      +     .   \n",
       "1  chr1  StringTie  transcript  629081  629452     .      +     .   \n",
       "2  chr1  StringTie  transcript  629503  630651     .      +     .   \n",
       "3  chr1  StringTie  transcript  778760  810065     .      +     .   \n",
       "4  chr1  StringTie  transcript  817371  819834     .      +     .   \n",
       "\n",
       "                                          attributes          lid  \n",
       "0  transcript_id \"ALL_00000003\"; gene_id \"XLOC_00...  XLOC_000002  \n",
       "1  transcript_id \"ALL_00000006\"; gene_id \"XLOC_00...  XLOC_000005  \n",
       "2  transcript_id \"ALL_00000008\"; gene_id \"XLOC_00...  XLOC_000005  \n",
       "3  transcript_id \"ALL_00028685\"; gene_id \"XLOC_00...  XLOC_000007  \n",
       "4  transcript_id \"ALL_00000055\"; gene_id \"XLOC_00...  XLOC_000008  "
      ]
     },
     "execution_count": 27,
     "metadata": {},
     "output_type": "execute_result"
    }
   ],
   "source": [
    "# get all loci and transcript IDs\n",
    "real_baseDF[\"lid\"] = real_baseDF[\"attributes\"].str.split(\"gene_id \\\"\",expand=True)[1].str.split(\"\\\"\",expand=True)[0]\n",
    "nonint_baseDF[\"lid\"] = nonint_baseDF[\"attributes\"].str.split(\"gene_id \\\"\",expand=True)[1].str.split(\"\\\"\",expand=True)[0]\n",
    "int_baseDF[\"lid\"] = int_baseDF[\"attributes\"].str.split(\"gene_id \\\"\",expand=True)[1].str.split(\"\\\"\",expand=True)[0]\n",
    "pol_baseDF[\"lid\"] = pol_baseDF[\"attributes\"].str.split(\"gene_id \\\"\",expand=True)[1].str.split(\"\\\"\",expand=True)[0]\n",
    "real_locs = set(real_baseDF[\"lid\"])\n",
    "nonint_locs = set(nonint_baseDF[\"lid\"])\n",
    "int_locs = set(int_baseDF[\"lid\"])\n",
    "pol_locs = set(pol_baseDF[\"lid\"])\n",
    "print(len(real_locs),len(nonint_locs),len(int_locs),len(pol_locs))\n",
    "real_baseDF.head()"
   ]
  },
  {
   "cell_type": "code",
   "execution_count": 28,
   "metadata": {},
   "outputs": [
    {
     "name": "stdout",
     "output_type": "stream",
     "text": [
      "16878 10458 9689 25174\n"
     ]
    }
   ],
   "source": [
    "# perform cleanup, by removing any loci in \n",
    "#   1. int that are also in real\n",
    "#   2. nonint that are not in real\n",
    "#   3. pol that are in real\n",
    "int_locs = int_locs - real_locs.intersection(int_locs)\n",
    "assert(len(real_locs.intersection(int_locs))==0),\"something wrong intronic\"\n",
    "int_baseDF = int_baseDF[int_baseDF[\"lid\"].isin(int_locs)].reset_index(drop=True)\n",
    "\n",
    "nonint_locs = nonint_locs - nonint_locs.difference(real_locs)\n",
    "assert(len(nonint_locs) == len(real_locs.intersection(nonint_locs))),\"something wrong non-intronic\"\n",
    "nonint_baseDF = nonint_baseDF[nonint_baseDF[\"lid\"].isin(nonint_locs)].reset_index(drop=True)\n",
    "\n",
    "pol_locs = pol_locs - real_locs.intersection(pol_locs)\n",
    "assert(len(real_locs.intersection(pol_locs))==0),\"something wrong polymerase\"\n",
    "pol_baseDF = pol_baseDF[pol_baseDF[\"lid\"].isin(pol_locs)].reset_index(drop=True)\n",
    "\n",
    "print(len(real_locs),len(nonint_locs),len(int_locs),len(pol_locs))"
   ]
  },
  {
   "cell_type": "code",
   "execution_count": 29,
   "metadata": {},
   "outputs": [],
   "source": [
    "real_baseDF[\"tid\"] = real_baseDF[\"attributes\"].str.split(\"transcript_id \\\"\",expand=True)[1].str.split(\"\\\"\",expand=True)[0]\n",
    "real_baseDF = real_baseDF[[\"lid\",\"tid\"]]\n",
    "nonint_baseDF[\"tid\"] = nonint_baseDF[\"attributes\"].str.split(\"transcript_id \\\"\",expand=True)[1].str.split(\"\\\"\",expand=True)[0]\n",
    "nonint_baseDF = nonint_baseDF[[\"lid\",\"tid\"]]\n",
    "int_baseDF[\"tid\"] = int_baseDF[\"attributes\"].str.split(\"transcript_id \\\"\",expand=True)[1].str.split(\"\\\"\",expand=True)[0]\n",
    "int_baseDF = int_baseDF[[\"lid\",\"tid\"]]\n",
    "pol_baseDF[\"tid\"] = pol_baseDF[\"attributes\"].str.split(\"transcript_id \\\"\",expand=True)[1].str.split(\"\\\"\",expand=True)[0]\n",
    "pol_baseDF = pol_baseDF[[\"lid\",\"tid\"]]"
   ]
  },
  {
   "cell_type": "code",
   "execution_count": 30,
   "metadata": {},
   "outputs": [
    {
     "name": "stdout",
     "output_type": "stream",
     "text": [
      "average real locs: 16350\n",
      "average noise locs: 21322\n",
      "average undefined locs: 19369\n"
     ]
    }
   ],
   "source": [
    "avg_real_locs = 0\n",
    "avg_noise_locs = 0\n",
    "avg_undefined_locs = 0\n",
    "with open(base_dir+\"out_test/res_distrib.loc_stats\",\"r\") as inFP:\n",
    "    for line in inFP.readlines():\n",
    "        type_loc,num_loc = line.split(\":\")\n",
    "        if type_loc==\"real\":\n",
    "            avg_real_locs = int(num_loc)\n",
    "        elif type_loc==\"noise\":\n",
    "            avg_noise_locs = int(num_loc)\n",
    "        elif type_loc==\"undefined\":\n",
    "            if(int(num_loc))>0:\n",
    "                avg_undefined_locs = int(num_loc)\n",
    "        else:\n",
    "            print(\"error in loading averages\")\n",
    "print(\"average real locs: \"+str(avg_real_locs))\n",
    "print(\"average noise locs: \"+str(avg_noise_locs))\n",
    "print(\"average undefined locs: \"+str(avg_undefined_locs))"
   ]
  },
  {
   "cell_type": "code",
   "execution_count": 31,
   "metadata": {},
   "outputs": [
    {
     "name": "stdout",
     "output_type": "stream",
     "text": [
      "old avg real locs: 16350\n",
      "old avg noise locs: 21322\n",
      "real locs: 6420\n",
      "nonint locs: 10458\n",
      "int locs: 9689\n",
      "pol locs: 25174\n",
      "selecting n real locs: 6219\n",
      "selecting n nonint locs: 10130\n",
      "selecting n int locs: 5925\n",
      "selecting n pol locs: 15396\n"
     ]
    }
   ],
   "source": [
    "# randomly select loci of each type based on the averages\n",
    "# noise loci are a combination of: intronic and polymerase\n",
    "# this needs to be done proportionally to the consistent parts of each group (real(real,nonint) and noise(int,pol))\n",
    "\n",
    "real_only_locs = real_locs - nonint_locs\n",
    "\n",
    "# in case of inconsistencies associated with merging transcripts of different types under the same locus\n",
    "# we need to scale the averages with respect to the new numbers\n",
    "avg_total_locs = avg_real_locs+avg_noise_locs\n",
    "# now scale these averages such that\n",
    "# new_avg_real_locs <= len(real_only_locs and nonint_locs)\n",
    "# new_avg_noise_locs <= len(int_locs and pol_locs)\n",
    "sum_locs_to_choose_from = len(real_only_locs)+len(nonint_locs)+len(int_locs)+len(pol_locs)\n",
    "# new_avg_real_locs = int((len(nonint_locs)+len(real_only_locs))*(avg_real_locs/avg_total_locs))\n",
    "# new_avg_noise_locs = int((len(pol_locs)+len(int_locs))*(avg_noise_locs/avg_total_locs))\n",
    "\n",
    "print(\"old avg real locs: \"+str(avg_real_locs))\n",
    "# print(\"new avg real locs: \"+str(new_avg_real_locs))\n",
    "print(\"old avg noise locs: \"+str(avg_noise_locs))\n",
    "# print(\"new avg noise locs: \"+str(new_avg_noise_locs))\n",
    "\n",
    "print(\"real locs: \"+str(len(real_only_locs)))\n",
    "print(\"nonint locs: \"+str(len(nonint_locs)))\n",
    "print(\"int locs: \"+str(len(int_locs)))\n",
    "print(\"pol locs: \"+str(len(pol_locs)))\n",
    "\n",
    "perc_real = len(real_only_locs)/len(real_locs)\n",
    "perc_nonint = len(nonint_locs)/len(real_locs)\n",
    "assert(perc_real+perc_nonint)==1,\"wrong percent real and nonint\"\n",
    "\n",
    "perc_int = len(int_locs)/(len(int_locs)+len(pol_locs))\n",
    "perc_pol = len(pol_locs)/(len(int_locs)+len(pol_locs))\n",
    "assert((perc_int+perc_pol)==1),\"wrong percent pol and int\"\n",
    "print(\"selecting n real locs: \"+str(int(avg_real_locs*perc_real)))\n",
    "print(\"selecting n nonint locs: \"+str(int(avg_real_locs*perc_nonint)))\n",
    "print(\"selecting n int locs: \"+str(int(avg_noise_locs*perc_int)))\n",
    "print(\"selecting n pol locs: \"+str(int(avg_noise_locs*perc_pol)))\n",
    "\n",
    "real_only_locs_rand = np.random.choice(list(real_only_locs),int(avg_real_locs*perc_real), replace=False)\n",
    "nonint_locs_rand = np.random.choice(list(nonint_locs),int(avg_real_locs*perc_nonint), replace=False)\n",
    "int_locs_rand = np.random.choice(list(int_locs),int(avg_noise_locs*perc_int), replace=False)\n",
    "pol_locs_rand = np.random.choice(list(pol_locs),int(avg_noise_locs*perc_pol), replace=False)"
   ]
  },
  {
   "cell_type": "code",
   "execution_count": 32,
   "metadata": {},
   "outputs": [
    {
     "name": "stdout",
     "output_type": "stream",
     "text": [
      "6219 10130 10130 15396\n",
      "11569 26813 105843 36937\n"
     ]
    }
   ],
   "source": [
    "real_only_baseDF = real_baseDF[real_baseDF[\"lid\"].isin(real_only_locs_rand)].reset_index(drop=True)\n",
    "real_nonint_baseDF = real_baseDF[(real_baseDF[\"lid\"].isin(nonint_locs_rand))&~(real_baseDF[\"lid\"].isin(real_only_locs_rand))].reset_index(drop=True)\n",
    "nonint_baseDF = nonint_baseDF[nonint_baseDF[\"lid\"].isin(nonint_locs_rand)].reset_index(drop=True)\n",
    "int_baseDF = int_baseDF[int_baseDF[\"lid\"].isin(int_locs_rand)].reset_index(drop=True)\n",
    "pol_baseDF = pol_baseDF[pol_baseDF[\"lid\"].isin(pol_locs_rand)].reset_index(drop=True)\n",
    "print(len(set(real_only_baseDF[\"lid\"])),len(set(real_nonint_baseDF[\"lid\"])),len(set(nonint_baseDF[\"lid\"])),len(set(pol_baseDF[\"lid\"])))\n",
    "print(len(set(real_only_baseDF[\"tid\"])),len(set(real_nonint_baseDF[\"tid\"])),len(set(nonint_baseDF[\"tid\"])),len(set(pol_baseDF[\"tid\"])))"
   ]
  },
  {
   "cell_type": "code",
   "execution_count": 33,
   "metadata": {},
   "outputs": [
    {
     "name": "stderr",
     "output_type": "stream",
     "text": [
      "/home/sparrow/anaconda3/lib/python3.6/site-packages/matplotlib/figure.py:445: UserWarning: Matplotlib is currently using module://ipykernel.pylab.backend_inline, which is a non-GUI backend, so cannot show the figure.\n",
      "  % get_backend())\n"
     ]
    },
    {
     "data": {
      "image/png": "[encoded data removed]",
      "text/plain": [
       "<Figure size 1080x720 with 4 Axes>"
      ]
     },
     "metadata": {
      "needs_background": "light"
     },
     "output_type": "display_data"
    },
    {
     "data": {
      "text/plain": [
       "<Figure size 1080x720 with 0 Axes>"
      ]
     },
     "metadata": {},
     "output_type": "display_data"
    }
   ],
   "source": [
    "# load the transcript tissue distribution\n",
    "ttx_real = list()\n",
    "ttx_nonint = list()\n",
    "ttx_int = list()\n",
    "ttx_pol = list()\n",
    "\n",
    "tmp_tx = pd.read_csv(base_dir+\"out_test/res_distrib.num_tx_per_tissue_loc2\")\n",
    "tmp_tx_real_loc = tmp_tx[(tmp_tx[\"real\"]>0)][[\"total\",\"real\",\"nonintronic\"]].reset_index(drop=True)\n",
    "tmp_tx_real_loc[\"perc_real\"] = tmp_tx_real_loc[\"real\"]/tmp_tx_real_loc[\"total\"]\n",
    "tmp_tx_real_loc[\"perc_nonint\"] = tmp_tx_real_loc[\"nonintronic\"]/tmp_tx_real_loc[\"total\"]\n",
    "d_real = list(tmp_tx_real_loc[\"perc_real\"])\n",
    "d_nonint = list(tmp_tx_real_loc[\"perc_nonint\"])\n",
    "\n",
    "tmp_tx_int_loc = tmp_tx[(tmp_tx[\"intronic\"]>0)][[\"total\",\"intronic\"]].reset_index(drop=True)\n",
    "tmp_tx_int_loc[\"perc_int\"] = tmp_tx_int_loc[\"intronic\"]/tmp_tx_int_loc[\"total\"]\n",
    "d_int = list(tmp_tx_int_loc[\"perc_int\"])\n",
    "\n",
    "tmp_tx_pol_loc = tmp_tx[(tmp_tx[\"polymerase\"]>0)][[\"total\",\"polymerase\"]].reset_index(drop=True)\n",
    "tmp_tx_pol_loc[\"perc_pol\"] = tmp_tx_pol_loc[\"polymerase\"]/tmp_tx_pol_loc[\"total\"]\n",
    "d_pol = list(tmp_tx_pol_loc[\"perc_pol\"])\n",
    "\n",
    "plt.rcParams['figure.figsize'] = (15.0, 10.0)\n",
    "fig, ax =plt.subplots(1,4)\n",
    "plt.figure()\n",
    "sns.distplot(d_real,kde=False,ax=ax[0]);\n",
    "sns.distplot(d_nonint,kde=False,ax=ax[1]);\n",
    "sns.distplot(d_int,kde=False,ax=ax[2]);\n",
    "sns.distplot(d_pol,kde=False,ax=ax[3]);\n",
    "fig.show()"
   ]
  },
  {
   "cell_type": "code",
   "execution_count": 35,
   "metadata": {},
   "outputs": [
    {
     "name": "stdout",
     "output_type": "stream",
     "text": [
      "7592 14770 26661 8029 33364\n"
     ]
    }
   ],
   "source": [
    "# now that we have the loci, we can subset the gtfs and move on to working with the transcripts\n",
    "# the question is: how do we allocate transcripts per locus?\n",
    "# do we do this based on the distribution of the number of transcripts per each type of locus?\n",
    "# are there any caveates in the co-dependencies such as between real and non-intronic?\n",
    "\n",
    "# we should probably only select transcripts of each group within each type of locus dataframe\n",
    "\n",
    "# one important consideration is that the total number of transcripts should be close to what is observed\n",
    "#  in an average tissue (needs to be computed in the gtex_stats)\n",
    "# this approach, however, might be overly complicated, and simply randomly selecting n transcripts for each group\n",
    "#  based on distribution computed by gtex_stats might be sufficient, and should approximate well to desired values\n",
    "\n",
    "real_only_txs = set()\n",
    "for name, group in real_only_baseDF.groupby(\"lid\"):\n",
    "    tids = group[\"tid\"].tolist()\n",
    "    nt = math.ceil(d_real[random.randint(0,len(d_real)-1)]*len(tids))\n",
    "    random.shuffle(tids)\n",
    "    real_only_txs.update(tids[:nt])\n",
    "\n",
    "# what we need here is a real_baseDF which contains the loci from the nonint_baseDF\n",
    "real_nonint_txs = set()\n",
    "for name, group in real_nonint_baseDF.groupby(\"lid\"):\n",
    "    tids = group[\"tid\"].tolist()\n",
    "    nt = math.ceil(d_real[random.randint(0,len(d_real)-1)]*len(tids))\n",
    "    random.shuffle(tids)\n",
    "    real_nonint_txs.update(tids[:nt])\n",
    "    \n",
    "nonint_txs = set()\n",
    "for name, group in nonint_baseDF.groupby(\"lid\"):\n",
    "    tids = group[\"tid\"].tolist()\n",
    "    nt = math.ceil(d_nonint[random.randint(0,len(d_nonint)-1)]*len(tids))\n",
    "    random.shuffle(tids)\n",
    "    nonint_txs.update(tids[:nt])\n",
    "    \n",
    "int_txs = set()\n",
    "for name, group in int_baseDF.groupby(\"lid\"):\n",
    "    tids = group[\"tid\"].tolist()\n",
    "    nt = math.ceil(d_int[random.randint(0,len(d_int)-1)]*len(tids))\n",
    "    random.shuffle(tids)\n",
    "    int_txs.update(tids[:nt])\n",
    "    \n",
    "pol_txs = set()\n",
    "for name, group in pol_baseDF.groupby(\"lid\"):\n",
    "    tids = group[\"tid\"].tolist()\n",
    "    nt = math.ceil(d_pol[random.randint(0,len(d_pol)-1)]*len(tids))\n",
    "    random.shuffle(tids)\n",
    "    pol_txs.update(tids[:nt])\n",
    "\n",
    "# now do the same to the nonint,int,pol\n",
    "print(len(real_only_txs),len(real_nonint_txs),len(nonint_txs),len(int_txs),len(pol_txs))"
   ]
  },
  {
   "cell_type": "code",
   "execution_count": 36,
   "metadata": {},
   "outputs": [
    {
     "name": "stdout",
     "output_type": "stream",
     "text": [
      "11569\n",
      "7592\n",
      "26813\n",
      "14770\n",
      "105843\n",
      "26661\n",
      "8546\n",
      "8029\n",
      "36937\n",
      "33364\n"
     ]
    }
   ],
   "source": [
    "# now that we have lists of transcripts - we can subset the annotation further\n",
    "print(len(real_only_baseDF))\n",
    "real_only_baseDF = real_only_baseDF[real_only_baseDF[\"tid\"].isin(real_only_txs)].reset_index(drop=True)\n",
    "print(len(real_only_baseDF))\n",
    "print(len(real_nonint_baseDF))\n",
    "real_nonint_baseDF = real_nonint_baseDF[real_nonint_baseDF[\"tid\"].isin(real_nonint_txs)].reset_index(drop=True)\n",
    "print(len(real_nonint_baseDF))\n",
    "print(len(nonint_baseDF))\n",
    "nonint_baseDF = nonint_baseDF[nonint_baseDF[\"tid\"].isin(nonint_txs)].reset_index(drop=True)\n",
    "print(len(nonint_baseDF))\n",
    "print(len(int_baseDF))\n",
    "int_baseDF = int_baseDF[int_baseDF[\"tid\"].isin(int_txs)].reset_index(drop=True)\n",
    "print(len(int_baseDF))\n",
    "print(len(pol_baseDF))\n",
    "pol_baseDF = pol_baseDF[pol_baseDF[\"tid\"].isin(pol_txs)].reset_index(drop=True)\n",
    "print(len(pol_baseDF))"
   ]
  },
  {
   "cell_type": "code",
   "execution_count": 38,
   "metadata": {},
   "outputs": [
    {
     "name": "stderr",
     "output_type": "stream",
     "text": [
      "/home/sparrow/anaconda3/lib/python3.6/site-packages/matplotlib/figure.py:445: UserWarning: Matplotlib is currently using module://ipykernel.pylab.backend_inline, which is a non-GUI backend, so cannot show the figure.\n",
      "  % get_backend())\n"
     ]
    },
    {
     "data": {
      "image/png": "[encoded data removed]",
      "text/plain": [
       "<Figure size 1080x720 with 4 Axes>"
      ]
     },
     "metadata": {
      "needs_background": "light"
     },
     "output_type": "display_data"
    },
    {
     "data": {
      "text/plain": [
       "<Figure size 1080x720 with 0 Axes>"
      ]
     },
     "metadata": {},
     "output_type": "display_data"
    }
   ],
   "source": [
    "# lastly we need to generate samples based on the underlying annotation\n",
    "# for this we will need additional information, similar to the tissue_per_loc2 in order to tell\n",
    "# how likely a sample is to contribute a transcript to a tissue\n",
    "\n",
    "# load the transcript sample distribution\n",
    "ttx_real = list()\n",
    "ttx_nonint = list()\n",
    "ttx_int = list()\n",
    "ttx_pol = list()\n",
    "\n",
    "tmp_tx = pd.read_csv(base_dir+\"out_test/res_distrib.num_tx_per_sample_loc2\")\n",
    "tmp_tx_real_loc = tmp_tx[(tmp_tx[\"real\"]>0)][[\"total\",\"real\",\"nonintronic\"]].reset_index(drop=True)\n",
    "tmp_tx_real_loc[\"perc_real\"] = tmp_tx_real_loc[\"real\"]/tmp_tx_real_loc[\"total\"]\n",
    "tmp_tx_real_loc[\"perc_nonint\"] = tmp_tx_real_loc[\"nonintronic\"]/tmp_tx_real_loc[\"total\"]\n",
    "d_real = list(tmp_tx_real_loc[\"perc_real\"])\n",
    "d_nonint = list(tmp_tx_real_loc[\"perc_nonint\"])\n",
    "\n",
    "tmp_tx_int_loc = tmp_tx[(tmp_tx[\"intronic\"]>0)][[\"total\",\"intronic\"]].reset_index(drop=True)\n",
    "tmp_tx_int_loc[\"perc_int\"] = tmp_tx_int_loc[\"intronic\"]/tmp_tx_int_loc[\"total\"]\n",
    "d_int = list(tmp_tx_int_loc[\"perc_int\"])\n",
    "\n",
    "tmp_tx_pol_loc = tmp_tx[(tmp_tx[\"polymerase\"]>0)][[\"total\",\"polymerase\"]].reset_index(drop=True)\n",
    "tmp_tx_pol_loc[\"perc_pol\"] = tmp_tx_pol_loc[\"polymerase\"]/tmp_tx_pol_loc[\"total\"]\n",
    "d_pol = list(tmp_tx_pol_loc[\"perc_pol\"])\n",
    "\n",
    "plt.rcParams['figure.figsize'] = (15.0, 10.0)\n",
    "fig, ax =plt.subplots(1,4)\n",
    "plt.figure()\n",
    "sns.distplot(d_real,kde=False,ax=ax[0]);\n",
    "sns.distplot(d_nonint,kde=False,ax=ax[1]);\n",
    "sns.distplot(d_int,kde=False,ax=ax[2]);\n",
    "sns.distplot(d_pol,kde=False,ax=ax[3]);\n",
    "fig.show()"
   ]
  },
  {
   "cell_type": "code",
   "execution_count": 39,
   "metadata": {},
   "outputs": [],
   "source": [
    "num_samples = 10 # number of samples to simulate\n",
    "\n",
    "real_only_txs = [set() for x in range(num_samples)]\n",
    "for name, group in real_only_baseDF.groupby(\"lid\"):\n",
    "    tids = group[\"tid\"].tolist()\n",
    "    for i in range(num_samples):\n",
    "        nt = math.ceil(d_real[random.randint(0,len(d_real)-1)]*len(tids))\n",
    "        random.shuffle(tids)\n",
    "        real_only_txs[i].update(tids[:nt])\n",
    "        \n",
    "real_nonint_txs = [set() for x in range(num_samples)]\n",
    "for name, group in real_nonint_baseDF.groupby(\"lid\"):\n",
    "    tids = group[\"tid\"].tolist()\n",
    "    for i in range(num_samples):\n",
    "        nt = math.ceil(d_real[random.randint(0,len(d_real)-1)]*len(tids))\n",
    "        random.shuffle(tids)\n",
    "        real_nonint_txs[i].update(tids[:nt])\n",
    "\n",
    "nonint_txs = [set() for x in range(num_samples)]\n",
    "for name, group in nonint_baseDF.groupby(\"lid\"):\n",
    "    tids = group[\"tid\"].tolist()\n",
    "    for i in range(num_samples):\n",
    "        nt = math.ceil(d_nonint[random.randint(0,len(d_nonint)-1)]*len(tids))\n",
    "        random.shuffle(tids)\n",
    "        nonint_txs[i].update(tids[:nt])      \n",
    "\n",
    "int_txs = [set() for x in range(num_samples)]\n",
    "for name, group in int_baseDF.groupby(\"lid\"):\n",
    "    tids = group[\"tid\"].tolist()\n",
    "    for i in range(num_samples):\n",
    "        nt = math.ceil(d_int[random.randint(0,len(d_int)-1)]*len(tids))\n",
    "        random.shuffle(tids)\n",
    "        int_txs[i].update(tids[:nt])\n",
    "        \n",
    "pol_txs = [set() for x in range(num_samples)]\n",
    "for name, group in pol_baseDF.groupby(\"lid\"):\n",
    "    tids = group[\"tid\"].tolist()\n",
    "    for i in range(num_samples):\n",
    "        nt = math.ceil(d_pol[random.randint(0,len(d_pol)-1)]*len(tids))\n",
    "        random.shuffle(tids)\n",
    "        pol_txs[i].update(tids[:nt])"
   ]
  },
  {
   "cell_type": "code",
   "execution_count": 40,
   "metadata": {},
   "outputs": [],
   "source": [
    "# now that we have sample specific stuff - we can generate sample-specific GTFs\n",
    "real_baseDF = pd.read_csv(base_dir+\"data/ALL.combined.IDs.olny.in.ALL.combined.true.gtf\",sep=\"\\t\",names=gff3cols)\n",
    "nonint_baseDF = pd.read_csv(base_dir+\"data/ALL.combined.IDs.olny.in.ALL.combined.no.contained.non.intronic.gtf\",sep=\"\\t\",names=gff3cols)\n",
    "int_baseDF = pd.read_csv(base_dir+\"data/ALL.combined.IDs.olny.in.ALL.combined.no.contained.intronic.gtf\",sep=\"\\t\",names=gff3cols)\n",
    "pol_baseDF = pd.read_csv(base_dir+\"data/ALL.combined.IDs.olny.in.ALL.combined.no.contained.RNApol.gtf\",sep=\"\\t\",names=gff3cols)\n",
    "real_baseDF[\"tid\"] = real_baseDF[\"attributes\"].str.split(\"transcript_id \\\"\",expand=True)[1].str.split(\"\\\"\",expand=True)[0]\n",
    "nonint_baseDF[\"tid\"] = nonint_baseDF[\"attributes\"].str.split(\"transcript_id \\\"\",expand=True)[1].str.split(\"\\\"\",expand=True)[0]\n",
    "int_baseDF[\"tid\"] = int_baseDF[\"attributes\"].str.split(\"transcript_id \\\"\",expand=True)[1].str.split(\"\\\"\",expand=True)[0]\n",
    "pol_baseDF[\"tid\"] = pol_baseDF[\"attributes\"].str.split(\"transcript_id \\\"\",expand=True)[1].str.split(\"\\\"\",expand=True)[0]\n",
    "\n",
    "for i in range(num_samples):\n",
    "    real_baseDF[real_baseDF[\"tid\"].isin(real_only_txs[i].union(real_nonint_txs[i]))][gff3cols].to_csv(out_dir+\"/res.real.sample\"+str(i)+\".gtf\",sep=\"\\t\",index=False,header=False,quoting=csv.QUOTE_NONE)\n",
    "    nonint_baseDF[nonint_baseDF[\"tid\"].isin(nonint_txs[i])][gff3cols].to_csv(out_dir+\"/res.nonint.sample\"+str(i)+\".gtf\",sep=\"\\t\",index=False,header=False,quoting=csv.QUOTE_NONE)\n",
    "    int_baseDF[int_baseDF[\"tid\"].isin(int_txs[i])][gff3cols].to_csv(out_dir+\"/res.int.sample\"+str(i)+\".gtf\",sep=\"\\t\",index=False,header=False,quoting=csv.QUOTE_NONE)\n",
    "    pol_baseDF[pol_baseDF[\"tid\"].isin(pol_txs[i])][gff3cols].to_csv(out_dir+\"/res.pol.sample\"+str(i)+\".gtf\",sep=\"\\t\",index=False,header=False,quoting=csv.QUOTE_NONE)"
   ]
  },
  {
   "cell_type": "code",
   "execution_count": 62,
   "metadata": {},
   "outputs": [
    {
     "name": "stdout",
     "output_type": "stream",
     "text": [
      "1.0 75334.2\n"
     ]
    },
    {
     "name": "stderr",
     "output_type": "stream",
     "text": [
      "/home/sparrow/anaconda3/lib/python3.6/site-packages/matplotlib/figure.py:445: UserWarning: Matplotlib is currently using module://ipykernel.pylab.backend_inline, which is a non-GUI backend, so cannot show the figure.\n",
      "  % get_backend())\n"
     ]
    },
    {
     "data": {
      "image/png": "[encoded data removed]",
      "text/plain": [
       "<Figure size 1080x720 with 4 Axes>"
      ]
     },
     "metadata": {
      "needs_background": "light"
     },
     "output_type": "display_data"
    },
    {
     "data": {
      "text/plain": [
       "<Figure size 1080x720 with 0 Axes>"
      ]
     },
     "metadata": {},
     "output_type": "display_data"
    }
   ],
   "source": [
    "# load distribution of the sum of expressions\n",
    "tmp_exp_real = pd.read_csv(base_dir+\"out_test/res.cov_sample_real\")\n",
    "d_exp_real = list(tmp_exp_real[tmp_exp_real[\"cov\"]>=1][\"cov\"])\n",
    "\n",
    "tmp_exp_nonint = pd.read_csv(base_dir+\"out_test/res.cov_sample_nonintronic\")\n",
    "d_exp_nonint = list(tmp_exp_nonint[tmp_exp_nonint[\"cov\"]>=1][\"cov\"])\n",
    "\n",
    "tmp_exp_int = pd.read_csv(base_dir+\"out_test/res.cov_sample_intronic\")\n",
    "d_exp_int = list(tmp_exp_int[tmp_exp_int[\"cov\"]>=1][\"cov\"])\n",
    "\n",
    "tmp_exp_pol = pd.read_csv(base_dir+\"out_test/res.cov_sample_polymerase\")\n",
    "d_exp_pol = list(tmp_exp_pol[tmp_exp_pol[\"cov\"]>=1][\"cov\"])\n",
    "\n",
    "print(min(d_exp_real),max(d_exp_real))\n",
    "\n",
    "plt.rcParams['figure.figsize'] = (15.0, 10.0)\n",
    "fig, ax =plt.subplots(1,4)\n",
    "plt.figure()\n",
    "sns.distplot(d_exp_real,kde=False,ax=ax[0]);\n",
    "sns.distplot(d_exp_nonint,kde=False,ax=ax[1]);\n",
    "sns.distplot(d_exp_int,kde=False,ax=ax[2]);\n",
    "sns.distplot(d_exp_pol,kde=False,ax=ax[3]);\n",
    "ax[0].set_yscale(\"log\")\n",
    "ax[1].set_yscale(\"log\")\n",
    "ax[2].set_yscale(\"log\")\n",
    "ax[3].set_yscale(\"log\")\n",
    "fig.show()"
   ]
  },
  {
   "cell_type": "code",
   "execution_count": 63,
   "metadata": {},
   "outputs": [],
   "source": [
    "# now generate corresponding expression matrices for the transcripts in each sample for each type\n",
    "for i in range(num_samples):\n",
    "    realDF = pd.read_csv(out_dir+\"/res.real.sample\"+str(i)+\".gtf\",sep=\"\\t\",names=gff3cols)\n",
    "    nt_real = len(realDF[realDF[\"type\"]==\"transcript\"])\n",
    "    exps_real = np.random.choice(d_exp_real, nt_real, replace=False)\n",
    "    np.savetxt(out_dir+\"/res.real.sample\"+str(i)+\".exp\", exps_real, delimiter=',',fmt='%0.2f')\n",
    "    \n",
    "    nonintDF = pd.read_csv(out_dir+\"/res.nonint.sample\"+str(i)+\".gtf\",sep=\"\\t\",names=gff3cols)\n",
    "    nt_nonint = len(nonintDF[nonintDF[\"type\"]==\"transcript\"])\n",
    "    exps_nonint = np.random.choice(d_exp_nonint, nt_nonint, replace=False)\n",
    "    np.savetxt(out_dir+\"/res.nonint.sample\"+str(i)+\".exp\", exps_nonint, delimiter=',',fmt='%0.2f')\n",
    "    \n",
    "    intDF = pd.read_csv(out_dir+\"/res.int.sample\"+str(i)+\".gtf\",sep=\"\\t\",names=gff3cols)\n",
    "    nt_int = len(intDF[intDF[\"type\"]==\"transcript\"])\n",
    "    exps_int = np.random.choice(d_exp_int, nt_int, replace=False)\n",
    "    np.savetxt(out_dir+\"/res.int.sample\"+str(i)+\".exp\", exps_int, delimiter=',',fmt='%0.2f')\n",
    "    \n",
    "    polDF = pd.read_csv(out_dir+\"/res.pol.sample\"+str(i)+\".gtf\",sep=\"\\t\",names=gff3cols)\n",
    "    nt_pol = len(polDF[polDF[\"type\"]==\"transcript\"])\n",
    "    exps_pol = np.random.choice(d_exp_pol, nt_pol, replace=False)\n",
    "    np.savetxt(out_dir+\"/res.pol.sample\"+str(i)+\".exp\", exps_pol, delimiter=',',fmt='%0.2f')"
   ]
  },
  {
   "cell_type": "code",
   "execution_count": 50,
   "metadata": {},
   "outputs": [],
   "source": [
    "# generate transcriptomes for each file with gffread\n",
    "for i in range(num_samples):\n",
    "    cmd_real = [\"gffread\",\n",
    "                \"-w\",out_dir+\"res.real.sample\"+str(i)+\".fasta\",\n",
    "                \"-g\",hg38_fa,\n",
    "                out_dir+\"res.real.sample\"+str(i)+\".gtf\"]\n",
    "    subprocess.call(cmd_real)\n",
    "    \n",
    "    cmd_nonint = [\"gffread\",\n",
    "                \"-w\",out_dir+\"res.nonint.sample\"+str(i)+\".fasta\",\n",
    "                \"-g\",hg38_fa,\n",
    "                out_dir+\"res.nonint.sample\"+str(i)+\".gtf\"]\n",
    "    subprocess.call(cmd_nonint)\n",
    "    \n",
    "    cmd_int = [\"gffread\",\n",
    "                \"-w\",out_dir+\"res.int.sample\"+str(i)+\".fasta\",\n",
    "                \"-g\",hg38_fa,\n",
    "                out_dir+\"res.int.sample\"+str(i)+\".gtf\"]\n",
    "    subprocess.call(cmd_int)\n",
    "    \n",
    "    cmd_pol = [\"gffread\",\n",
    "                \"-w\",out_dir+\"res.pol.sample\"+str(i)+\".fasta\",\n",
    "                \"-g\",hg38_fa,\n",
    "                out_dir+\"res.pol.sample\"+str(i)+\".gtf\"]\n",
    "    subprocess.call(cmd_pol)"
   ]
  },
  {
   "cell_type": "code",
   "execution_count": 67,
   "metadata": {},
   "outputs": [
    {
     "name": "stdout",
     "output_type": "stream",
     "text": [
      "0\n",
      "1\n",
      "2\n",
      "3\n",
      "4\n",
      "5\n",
      "6\n",
      "7\n",
      "8\n",
      "9\n"
     ]
    }
   ],
   "source": [
    "for i in range(num_samples):\n",
    "    print(i)\n",
    "    if not os.path.exists(out_dir+\"res.real.sample\"+str(i)):\n",
    "        os.makedirs(out_dir+\"res.real.sample\"+str(i))\n",
    "    cmd_real = [genRNAseq,\n",
    "                out_dir+\"res.real.sample\"+str(i)+\".fasta\",\n",
    "                out_dir+\"res.real.sample\"+str(i)+\".exp\",\n",
    "                str(readlen),\n",
    "                out_dir+\"res.real.sample\"+str(i)+\"/\"]\n",
    "    subprocess.call(cmd_real)\n",
    "    \n",
    "    if not os.path.exists(out_dir+\"res.nonint.sample\"+str(i)):\n",
    "        os.makedirs(out_dir+\"res.nonint.sample\"+str(i))\n",
    "    cmd_nonint = [genRNAseq,\n",
    "                out_dir+\"res.nonint.sample\"+str(i)+\".fasta\",\n",
    "                out_dir+\"res.nonint.sample\"+str(i)+\".exp\",\n",
    "                str(readlen),\n",
    "                out_dir+\"res.nonint.sample\"+str(i)+\"/\"]\n",
    "    subprocess.call(cmd_nonint)\n",
    "    \n",
    "    if not os.path.exists(out_dir+\"res.int.sample\"+str(i)):\n",
    "        os.makedirs(out_dir+\"res.int.sample\"+str(i))\n",
    "    cmd_int = [genRNAseq,\n",
    "                out_dir+\"res.int.sample\"+str(i)+\".fasta\",\n",
    "                out_dir+\"res.int.sample\"+str(i)+\".exp\",\n",
    "                str(readlen),\n",
    "                out_dir+\"res.int.sample\"+str(i)+\"/\"]\n",
    "    subprocess.call(cmd_int)\n",
    "    \n",
    "    if not os.path.exists(out_dir+\"res.pol.sample\"+str(i)):\n",
    "        os.makedirs(out_dir+\"res.pol.sample\"+str(i))\n",
    "    cmd_pol = [genRNAseq,\n",
    "                out_dir+\"res.pol.sample\"+str(i)+\".fasta\",\n",
    "                out_dir+\"res.pol.sample\"+str(i)+\".exp\",\n",
    "                str(readlen),\n",
    "                out_dir+\"res.pol.sample\"+str(i)+\"/\"]\n",
    "    subprocess.call(cmd_pol)"
   ]
  },
  {
   "cell_type": "code",
   "execution_count": null,
   "metadata": {},
   "outputs": [],
   "source": [
    "# before we build an index we also need a consolidated database that contains all real transcripts in it\n",
    "# so it can be used for salmon, kallisto and hisat2 with stringtie2"
   ]
  },
  {
   "cell_type": "code",
   "execution_count": null,
   "metadata": {},
   "outputs": [],
   "source": [
    "# now to build salmon and hisat2 indices\n"
   ]
  },
  {
   "cell_type": "code",
   "execution_count": null,
   "metadata": {},
   "outputs": [],
   "source": [
    "# then run the alignment"
   ]
  },
  {
   "cell_type": "code",
   "execution_count": null,
   "metadata": {},
   "outputs": [],
   "source": [
    "# now that the gtfs are created, we need to setup expression matrices to be used by polyester to get reads\n",
    "\n",
    "# for number of reads estimate we can rely on the contribution to expression estimate, defined in the computed\n",
    "#   distribution.\n",
    "# for each transcript in each sample get a matrix in the polyester format to simultae reads from\n",
    "\n",
    "\n",
    "# run hisat2+stringtie2,salmon,kallisto"
   ]
  }
 ],
 "metadata": {
  "kernelspec": {
   "display_name": "Python 3",
   "language": "python",
   "name": "python3"
  },
  "language_info": {
   "codemirror_mode": {
    "name": "ipython",
    "version": 3
   },
   "file_extension": ".py",
   "mimetype": "text/x-python",
   "name": "python",
   "nbconvert_exporter": "python",
   "pygments_lexer": "ipython3",
   "version": "3.6.9"
  }
 },
 "nbformat": 4,
 "nbformat_minor": 2
}
