{
 "cells": [
  {
   "cell_type": "code",
   "execution_count": 1,
   "metadata": {},
   "outputs": [],
   "source": [
    "import pandas as pd\n",
    "import numpy as np\n",
    "import subprocess\n",
    "import random\n",
    "from scipy import stats\n",
    "import glob\n",
    "import math\n",
    "import csv\n",
    "import sys\n",
    "import os\n",
    "\n",
    "import matplotlib.pyplot as plt\n",
    "from matplotlib import animation\n",
    "import seaborn as sns\n",
    "plt.rcParams['figure.figsize'] = (20.0, 10.0)\n",
    "plt.rcParams['font.family'] = \"serif\"\n",
    "%matplotlib inline"
   ]
  },
  {
   "cell_type": "code",
   "execution_count": 2,
   "metadata": {},
   "outputs": [],
   "source": [
    "# declarations\n",
    "base_dir_data = \"/ccb/salz8-1/avaraby/tx_noise/data_sub/\"\n",
    "base_dir_out = \"/ccb/salz8-1/avaraby/tx_noise/full_analysis_25022020/GTEx_aggs/\"\n",
    "out_dir = \"/ccb/salz8-1/avaraby/tx_noise/full_analysis_25022020/sim_samples/\"\n",
    "\n",
    "readlen = 101\n",
    "\n",
    "gff3cols=[\"seqid\",\"source\",\"type\",\"start\",\"end\",\"score\",\"strand\",\"phase\",\"attributes\"]"
   ]
  },
  {
   "cell_type": "code",
   "execution_count": 3,
   "metadata": {},
   "outputs": [],
   "source": [
    "# Here we need to implement a method for converting TPM information into\n",
    "# coverage information for polyester\n",
    "# we can do this by following the REM implementation of the TPM to number of reads conversion\n",
    "\n",
    "# first load the distribution of the number of reads per sample\n",
    "readlen_stats = pd.read_csv(\"/ccb/salz8-1/avaraby/tx_noise/readlen.stats\",usecols=[\"readlen\"])"
   ]
  },
  {
   "cell_type": "code",
   "execution_count": 17,
   "metadata": {},
   "outputs": [
    {
     "name": "stdout",
     "output_type": "stream",
     "text": [
      "number of reads in sample is: 53301782.7301581\n"
     ]
    }
   ],
   "source": [
    "i=0\n",
    "total_nreads = np.random.normal(readlen_stats[\"readlen\"].mean(),readlen_stats[\"readlen\"].std())\n",
    "print(\"number of reads in sample is: \"+str(total_nreads))\n",
    "\n",
    "real = pd.read_csv(out_dir+\"real.sample\"+str(i)+\".gtf\",sep=\"\\t\",names=gff3cols)\n",
    "real[\"tid\"] = real[\"attributes\"].str.split(\"transcript_id \\\"\",expand=True)[1].str.split(\"\\\"\",expand=True)[0]\n",
    "real[\"gid\"] = real[\"attributes\"].str.split(\"gene_id \\\"\",expand=True)[1].str.split(\"\\\"\",expand=True)[0]\n",
    "realt = real[real[\"type\"]==\"transcript\"][[\"tid\",\"gid\"]].reset_index(drop=True) # intended for order\n",
    "reale = real[real[\"type\"]==\"exon\"].reset_index(drop=True)\n",
    "reale[\"elen\"] = reale[\"end\"]-reale[\"start\"]\n",
    "reale = reale[[\"tid\",\"elen\"]]\n",
    "reale = reale.groupby(\"tid\").agg({\"elen\":\"sum\"}).reset_index()\n",
    "assert set(realt[\"tid\"])==set(reale[\"tid\"]),\"number of transcripts is not the same as number of groupped exons\"\n",
    "reale = realt.merge(reale,how=\"left\",on=\"tid\")\n",
    "tpms = pd.read_csv(out_dir+\"real.sample\"+str(i)+\".exp\",names=[\"tpm\"])\n",
    "assert len(tpms)==len(reale),\"number of tpms different from the number of transcripts\"\n",
    "reale[\"tpm\"] = tpms[\"tpm\"]\n",
    "\n",
    "splicing = pd.read_csv(out_dir+\"splicing.sample\"+str(i)+\".gtf\",sep=\"\\t\",names=gff3cols)\n",
    "splicing[\"tid\"] = splicing[\"attributes\"].str.split(\"transcript_id \\\"\",expand=True)[1].str.split(\"\\\"\",expand=True)[0]\n",
    "splicing[\"gid\"] = splicing[\"attributes\"].str.split(\"gene_id \\\"\",expand=True)[1].str.split(\"\\\"\",expand=True)[0]\n",
    "splicingt = splicing[splicing[\"type\"]==\"transcript\"][[\"tid\",\"gid\"]].reset_index(drop=True) # intended for order\n",
    "splicinge = splicing[splicing[\"type\"]==\"exon\"].reset_index(drop=True)\n",
    "splicinge[\"elen\"] = splicinge[\"end\"]-splicinge[\"start\"]\n",
    "splicinge = splicinge[[\"tid\",\"elen\"]]\n",
    "splicinge = splicinge.groupby(\"tid\").agg({\"elen\":\"sum\"}).reset_index()\n",
    "assert set(splicingt[\"tid\"])==set(splicinge[\"tid\"]),\"number of transcripts is not the same as number of groupped exons\"\n",
    "splicinge = splicingt.merge(splicinge,how=\"left\",on=\"tid\")\n",
    "tpms = pd.read_csv(out_dir+\"splicing.sample\"+str(i)+\".exp\",names=[\"tpm\"])\n",
    "assert len(tpms)==len(splicinge),\"number of tpms different from the number of transcripts\"\n",
    "splicinge[\"tpm\"] = tpms[\"tpm\"]\n",
    "\n",
    "intronic = pd.read_csv(out_dir+\"intronic.sample\"+str(i)+\".gtf\",sep=\"\\t\",names=gff3cols)\n",
    "intronic[\"tid\"] = intronic[\"attributes\"].str.split(\"transcript_id \\\"\",expand=True)[1].str.split(\"\\\"\",expand=True)[0]\n",
    "intronic[\"gid\"] = intronic[\"attributes\"].str.split(\"gene_id \\\"\",expand=True)[1].str.split(\"\\\"\",expand=True)[0]\n",
    "intronict = intronic[intronic[\"type\"]==\"transcript\"][[\"tid\",\"gid\"]].reset_index(drop=True) # intended for order\n",
    "intronice = intronic[intronic[\"type\"]==\"exon\"].reset_index(drop=True)\n",
    "intronice[\"elen\"] = intronice[\"end\"]-intronice[\"start\"]\n",
    "intronice = intronice[[\"tid\",\"elen\"]]\n",
    "intronice = intronice.groupby(\"tid\").agg({\"elen\":\"sum\"}).reset_index()\n",
    "assert set(intronict[\"tid\"])==set(intronice[\"tid\"]),\"number of transcripts is not the same as number of groupped exons\"\n",
    "intronice = intronict.merge(intronice,how=\"left\",on=\"tid\")\n",
    "tpms = pd.read_csv(out_dir+\"intronic.sample\"+str(i)+\".exp\",names=[\"tpm\"])\n",
    "assert len(tpms)==len(intronice),\"number of tpms different from the number of transcripts\"\n",
    "intronice[\"tpm\"] = tpms[\"tpm\"]\n",
    "\n",
    "pol = pd.read_csv(out_dir+\"pol.sample\"+str(i)+\".gtf\",sep=\"\\t\",names=gff3cols)\n",
    "pol[\"tid\"] = pol[\"attributes\"].str.split(\"transcript_id \\\"\",expand=True)[1].str.split(\"\\\"\",expand=True)[0]\n",
    "pol[\"gid\"] = pol[\"attributes\"].str.split(\"gene_id \\\"\",expand=True)[1].str.split(\"\\\"\",expand=True)[0]\n",
    "polt = pol[pol[\"type\"]==\"transcript\"][[\"tid\",\"gid\"]].reset_index(drop=True) # intended for order\n",
    "pole = pol[pol[\"type\"]==\"exon\"].reset_index(drop=True)\n",
    "pole[\"elen\"] = pole[\"end\"]-pole[\"start\"]\n",
    "pole = pole[[\"tid\",\"elen\"]]\n",
    "pole = pole.groupby(\"tid\").agg({\"elen\":\"sum\"}).reset_index()\n",
    "assert set(polt[\"tid\"])==set(pole[\"tid\"]),\"number of transcripts is not the same as number of groupped exons\"\n",
    "pole = polt.merge(pole,how=\"left\",on=\"tid\")\n",
    "\n",
    "tpms = pd.read_csv(out_dir+\"pol.sample\"+str(i)+\".exp\",names=[\"tpm\"])\n",
    "assert len(tpms)==len(pole),\"number of tpms different from the number of transcripts\"\n",
    "pole[\"tpm\"] = tpms[\"tpm\"]\n",
    "joined = pd.concat([reale[[\"tid\",\"elen\",\"tpm\"]],splicinge[[\"tid\",\"elen\",\"tpm\"]],intronice[[\"tid\",\"elen\",\"tpm\"]],pole[[\"tid\",\"elen\",\"tpm\"]]],axis=0).reset_index(drop=True)\n",
    "joined[\"theta\"] = joined[\"elen\"]*joined[\"tpm\"]\n",
    "denom = joined[\"theta\"].sum()\n",
    "joined[\"cor\"] = joined[\"theta\"]/denom\n",
    "# tids = np.random.choice(joined[\"tid\"],total_nreads,p=joined[\"cor\"])\n",
    "# tid_df = pd.DataFrame(tids,columns=[\"tid\"]).groupby(\"tid\").agg({\"tid\":{\"count\":\"count\"}}).reset_index()\n",
    "# tid_df.columns = [\"tid\",\"count\"]\n",
    "# now that we have all these values, we \n",
    "joined[\"cov\"] = (joined[\"cor\"]*total_nreads*readlen)/joined[\"elen\"]\n",
    "# now we can merge the data to comply with the original ordering\n",
    "# and proceed to write it out\n",
    "realt.merge(joined[[\"tid\",\"cov\"]],how=\"left\",on=\"tid\")[[\"cov\"]].to_csv(out_dir+\"real.sample\"+str(i)+\".exp2\",index=False,header=False)\n",
    "splicingt.merge(joined[[\"tid\",\"cov\"]],how=\"left\",on=\"tid\")[[\"cov\"]].to_csv(out_dir+\"splicing.sample\"+str(i)+\".exp2\",index=False,header=False)\n",
    "intronict.merge(joined[[\"tid\",\"cov\"]],how=\"left\",on=\"tid\")[[\"cov\"]].to_csv(out_dir+\"intronic.sample\"+str(i)+\".exp2\",index=False,header=False)\n",
    "polt.merge(joined[[\"tid\",\"cov\"]],how=\"left\",on=\"tid\")[[\"cov\"]].to_csv(out_dir+\"pol.sample\"+str(i)+\".exp2\",index=False,header=False)"
   ]
  },
  {
   "cell_type": "code",
   "execution_count": 18,
   "metadata": {},
   "outputs": [
    {
     "data": {
      "text/html": [
       "<div>\n",
       "<style scoped>\n",
       "    .dataframe tbody tr th:only-of-type {\n",
       "        vertical-align: middle;\n",
       "    }\n",
       "\n",
       "    .dataframe tbody tr th {\n",
       "        vertical-align: top;\n",
       "    }\n",
       "\n",
       "    .dataframe thead th {\n",
       "        text-align: right;\n",
       "    }\n",
       "</style>\n",
       "<table border=\"1\" class=\"dataframe\">\n",
       "  <thead>\n",
       "    <tr style=\"text-align: right;\">\n",
       "      <th></th>\n",
       "      <th>gid</th>\n",
       "      <th>nt_real</th>\n",
       "      <th>tpm_real</th>\n",
       "      <th>nt_splicing</th>\n",
       "      <th>tpm_splicing</th>\n",
       "      <th>nt_intronic</th>\n",
       "      <th>tpm_intronic</th>\n",
       "      <th>nt_total</th>\n",
       "      <th>tpm_total</th>\n",
       "      <th>frac</th>\n",
       "      <th>frac_tpm_real</th>\n",
       "      <th>frac_tpm_splicing</th>\n",
       "      <th>frac_tpm_intronic</th>\n",
       "      <th>total_tpm_noise</th>\n",
       "    </tr>\n",
       "  </thead>\n",
       "  <tbody>\n",
       "    <tr>\n",
       "      <th>0</th>\n",
       "      <td>CHS.10002</td>\n",
       "      <td>2.0</td>\n",
       "      <td>2.362163</td>\n",
       "      <td>0.0</td>\n",
       "      <td>0.000000</td>\n",
       "      <td>0.0</td>\n",
       "      <td>0.00000</td>\n",
       "      <td>2.0</td>\n",
       "      <td>2.362163</td>\n",
       "      <td>1.000000</td>\n",
       "      <td>1.000000</td>\n",
       "      <td>0.000000</td>\n",
       "      <td>0.000000</td>\n",
       "      <td>0.000000</td>\n",
       "    </tr>\n",
       "    <tr>\n",
       "      <th>1</th>\n",
       "      <td>CHS.10003</td>\n",
       "      <td>1.0</td>\n",
       "      <td>0.134527</td>\n",
       "      <td>5.0</td>\n",
       "      <td>12.148045</td>\n",
       "      <td>2.0</td>\n",
       "      <td>2.99928</td>\n",
       "      <td>8.0</td>\n",
       "      <td>15.281851</td>\n",
       "      <td>0.010953</td>\n",
       "      <td>0.008803</td>\n",
       "      <td>0.794933</td>\n",
       "      <td>0.196264</td>\n",
       "      <td>15.147325</td>\n",
       "    </tr>\n",
       "    <tr>\n",
       "      <th>2</th>\n",
       "      <td>CHS.10005</td>\n",
       "      <td>2.0</td>\n",
       "      <td>5.013131</td>\n",
       "      <td>0.0</td>\n",
       "      <td>0.000000</td>\n",
       "      <td>0.0</td>\n",
       "      <td>0.00000</td>\n",
       "      <td>2.0</td>\n",
       "      <td>5.013131</td>\n",
       "      <td>1.000000</td>\n",
       "      <td>1.000000</td>\n",
       "      <td>0.000000</td>\n",
       "      <td>0.000000</td>\n",
       "      <td>0.000000</td>\n",
       "    </tr>\n",
       "    <tr>\n",
       "      <th>3</th>\n",
       "      <td>CHS.10008</td>\n",
       "      <td>2.0</td>\n",
       "      <td>0.566382</td>\n",
       "      <td>0.0</td>\n",
       "      <td>0.000000</td>\n",
       "      <td>0.0</td>\n",
       "      <td>0.00000</td>\n",
       "      <td>2.0</td>\n",
       "      <td>0.566382</td>\n",
       "      <td>1.000000</td>\n",
       "      <td>1.000000</td>\n",
       "      <td>0.000000</td>\n",
       "      <td>0.000000</td>\n",
       "      <td>0.000000</td>\n",
       "    </tr>\n",
       "    <tr>\n",
       "      <th>4</th>\n",
       "      <td>CHS.10009</td>\n",
       "      <td>1.0</td>\n",
       "      <td>0.341627</td>\n",
       "      <td>0.0</td>\n",
       "      <td>0.000000</td>\n",
       "      <td>0.0</td>\n",
       "      <td>0.00000</td>\n",
       "      <td>1.0</td>\n",
       "      <td>0.341627</td>\n",
       "      <td>1.000000</td>\n",
       "      <td>1.000000</td>\n",
       "      <td>0.000000</td>\n",
       "      <td>0.000000</td>\n",
       "      <td>0.000000</td>\n",
       "    </tr>\n",
       "  </tbody>\n",
       "</table>\n",
       "</div>"
      ],
      "text/plain": [
       "         gid  nt_real  tpm_real  nt_splicing  tpm_splicing  nt_intronic  \\\n",
       "0  CHS.10002      2.0  2.362163          0.0      0.000000          0.0   \n",
       "1  CHS.10003      1.0  0.134527          5.0     12.148045          2.0   \n",
       "2  CHS.10005      2.0  5.013131          0.0      0.000000          0.0   \n",
       "3  CHS.10008      2.0  0.566382          0.0      0.000000          0.0   \n",
       "4  CHS.10009      1.0  0.341627          0.0      0.000000          0.0   \n",
       "\n",
       "   tpm_intronic  nt_total  tpm_total      frac  frac_tpm_real  \\\n",
       "0       0.00000       2.0   2.362163  1.000000       1.000000   \n",
       "1       2.99928       8.0  15.281851  0.010953       0.008803   \n",
       "2       0.00000       2.0   5.013131  1.000000       1.000000   \n",
       "3       0.00000       2.0   0.566382  1.000000       1.000000   \n",
       "4       0.00000       1.0   0.341627  1.000000       1.000000   \n",
       "\n",
       "   frac_tpm_splicing  frac_tpm_intronic  total_tpm_noise  \n",
       "0           0.000000           0.000000         0.000000  \n",
       "1           0.794933           0.196264        15.147325  \n",
       "2           0.000000           0.000000         0.000000  \n",
       "3           0.000000           0.000000         0.000000  \n",
       "4           0.000000           0.000000         0.000000  "
      ]
     },
     "execution_count": 18,
     "metadata": {},
     "output_type": "execute_result"
    }
   ],
   "source": [
    "# first need to compute total contribution of each to the gene\n",
    "realg = reale[[\"gid\",\"tid\",\"tpm\"]].groupby(by=\"gid\").agg({\"tid\":\"count\",\"tpm\":\"sum\"}).reset_index()\n",
    "realg.columns = [\"gid\",\"nt_real\",\"tpm_real\"]\n",
    "splicingg = splicinge[[\"gid\",\"tid\",\"tpm\"]].groupby(by=\"gid\").agg({\"tid\":\"count\",\"tpm\":\"sum\"}).reset_index()\n",
    "splicingg.columns = [\"gid\",\"nt_splicing\",\"tpm_splicing\"]\n",
    "intronicg = intronice[[\"gid\",\"tid\",\"tpm\"]].groupby(by=\"gid\").agg({\"tid\":\"count\",\"tpm\":\"sum\"}).reset_index()\n",
    "intronicg.columns = [\"gid\",\"nt_intronic\",\"tpm_intronic\"]\n",
    "joined = realg.merge(splicingg,on=\"gid\",how=\"outer\",indicator=True)\n",
    "joined[\"nt_real\"] = joined[\"nt_real\"].fillna(0)\n",
    "joined[\"tpm_real\"] = joined[\"tpm_real\"].fillna(0)\n",
    "joined.drop(\"_merge\",axis=1,inplace=True)\n",
    "joined = joined.merge(intronicg,on=\"gid\",how=\"outer\",indicator=True)\n",
    "joined[\"nt_real\"] = joined[\"nt_real\"].fillna(0)\n",
    "joined[\"tpm_real\"] = joined[\"tpm_real\"].fillna(0)\n",
    "joined.drop(\"_merge\",axis=1,inplace=True)\n",
    "joined[\"nt_splicing\"] = joined.nt_splicing.fillna(0)\n",
    "joined[\"tpm_splicing\"] = joined.tpm_splicing.fillna(0)\n",
    "joined[\"nt_intronic\"] = joined.nt_intronic.fillna(0)\n",
    "joined[\"tpm_intronic\"] = joined.tpm_intronic.fillna(0)\n",
    "joined[\"nt_total\"] = joined.nt_real+joined.nt_splicing+joined.nt_intronic\n",
    "joined[\"tpm_total\"] = joined.tpm_real+joined.tpm_splicing+joined.tpm_intronic\n",
    "joined[\"frac\"] = joined[\"tpm_real\"]/(joined[\"tpm_real\"]+joined[\"tpm_splicing\"])\n",
    "joined[\"frac_tpm_real\"] = joined.tpm_real/joined.tpm_total\n",
    "joined[\"frac_tpm_splicing\"] = joined.tpm_splicing/joined.tpm_total\n",
    "joined[\"frac_tpm_intronic\"] = joined.tpm_intronic/joined.tpm_total\n",
    "joined[\"total_tpm_noise\"] = joined[\"tpm_splicing\"]+joined[\"tpm_intronic\"]\n",
    "joined.head()"
   ]
  },
  {
   "cell_type": "code",
   "execution_count": 19,
   "metadata": {},
   "outputs": [
    {
     "data": {
      "text/plain": [
       "<matplotlib.legend.Legend at 0x7fe0ae730f28>"
      ]
     },
     "execution_count": 19,
     "metadata": {},
     "output_type": "execute_result"
    },
    {
     "data": {
      "image/png": "[encoded data removed]",
      "text/plain": [
       "<Figure size 1000x700 with 1 Axes>"
      ]
     },
     "metadata": {
      "needs_background": "light"
     },
     "output_type": "display_data"
    }
   ],
   "source": [
    "fig = plt.subplots(figsize=(10,7),dpi=100)\n",
    "plt.hist(joined[(joined[\"tpm_real\"]<1000)][\"tpm_real\"],bins=100,alpha=0.5,label='real')\n",
    "plt.hist(joined[(joined[\"total_tpm_noise\"]<1000)][\"total_tpm_noise\"],bins=100,alpha=0.5,label='total_noise')\n",
    "plt.yscale(\"symlog\")\n",
    "plt.legend(loc='upper right')"
   ]
  },
  {
   "cell_type": "code",
   "execution_count": 39,
   "metadata": {},
   "outputs": [],
   "source": [
    "# what does it look like on the real data\n",
    "\n",
    "\n",
    "# need to get the same numbers for the real data and make sure they are consistent\n",
    "#  1. total fraction of real expression per sample\n",
    "#  2. fraction of real expression in genes with splicing and/or intronic noise\n",
    "#  3. total contribution of real vs noise to expression of cell"
   ]
  },
  {
   "cell_type": "code",
   "execution_count": 7,
   "metadata": {},
   "outputs": [
    {
     "ename": "FileNotFoundError",
     "evalue": "[Errno 2] File b'/ccb/salz8-1/avaraby/tx_noise/full_analysis_25022020/GTEx_aggs/res.num_tx_per_sample_loc5' does not exist: b'/ccb/salz8-1/avaraby/tx_noise/full_analysis_25022020/GTEx_aggs/res.num_tx_per_sample_loc5'",
     "output_type": "error",
     "traceback": [
      "\u001b[0;31m---------------------------------------------------------------------------\u001b[0m",
      "\u001b[0;31mFileNotFoundError\u001b[0m                         Traceback (most recent call last)",
      "\u001b[0;32m<ipython-input-7-f0cc07b7ec56>\u001b[0m in \u001b[0;36m<module>\u001b[0;34m\u001b[0m\n\u001b[0;32m----> 1\u001b[0;31m \u001b[0msample_stats\u001b[0m \u001b[0;34m=\u001b[0m \u001b[0mpd\u001b[0m\u001b[0;34m.\u001b[0m\u001b[0mread_csv\u001b[0m\u001b[0;34m(\u001b[0m\u001b[0mbase_dir_out\u001b[0m\u001b[0;34m+\u001b[0m\u001b[0;34m\"res.num_tx_per_sample_loc5\"\u001b[0m\u001b[0;34m)\u001b[0m\u001b[0;34m\u001b[0m\u001b[0;34m\u001b[0m\u001b[0m\n\u001b[0m\u001b[1;32m      2\u001b[0m sample_stats[\"frac_real\"] = sample_stats[\"total_tpm_real\"]/(sample_stats[\"total_tpm_real\"]+\\\n\u001b[1;32m      3\u001b[0m                                                             \u001b[0msample_stats\u001b[0m\u001b[0;34m[\u001b[0m\u001b[0;34m\"total_tpm_splicing\"\u001b[0m\u001b[0;34m]\u001b[0m\u001b[0;34m+\u001b[0m\u001b[0;31m\\\u001b[0m\u001b[0;34m\u001b[0m\u001b[0;34m\u001b[0m\u001b[0m\n\u001b[1;32m      4\u001b[0m                                                             sample_stats[\"total_tpm_intronic\"])\n\u001b[1;32m      5\u001b[0m \u001b[0msample_stats\u001b[0m\u001b[0;34m[\u001b[0m\u001b[0;34m\"total_noise\"\u001b[0m\u001b[0;34m]\u001b[0m \u001b[0;34m=\u001b[0m \u001b[0msample_stats\u001b[0m\u001b[0;34m[\u001b[0m\u001b[0;34m\"total_tpm_splicing\"\u001b[0m\u001b[0;34m]\u001b[0m\u001b[0;34m+\u001b[0m\u001b[0msample_stats\u001b[0m\u001b[0;34m[\u001b[0m\u001b[0;34m\"total_tpm_intronic\"\u001b[0m\u001b[0;34m]\u001b[0m\u001b[0;34m\u001b[0m\u001b[0;34m\u001b[0m\u001b[0m\n",
      "\u001b[0;32m~/anaconda3/lib/python3.7/site-packages/pandas/io/parsers.py\u001b[0m in \u001b[0;36mparser_f\u001b[0;34m(filepath_or_buffer, sep, delimiter, header, names, index_col, usecols, squeeze, prefix, mangle_dupe_cols, dtype, engine, converters, true_values, false_values, skipinitialspace, skiprows, skipfooter, nrows, na_values, keep_default_na, na_filter, verbose, skip_blank_lines, parse_dates, infer_datetime_format, keep_date_col, date_parser, dayfirst, cache_dates, iterator, chunksize, compression, thousands, decimal, lineterminator, quotechar, quoting, doublequote, escapechar, comment, encoding, dialect, error_bad_lines, warn_bad_lines, delim_whitespace, low_memory, memory_map, float_precision)\u001b[0m\n\u001b[1;32m    683\u001b[0m         )\n\u001b[1;32m    684\u001b[0m \u001b[0;34m\u001b[0m\u001b[0m\n\u001b[0;32m--> 685\u001b[0;31m         \u001b[0;32mreturn\u001b[0m \u001b[0m_read\u001b[0m\u001b[0;34m(\u001b[0m\u001b[0mfilepath_or_buffer\u001b[0m\u001b[0;34m,\u001b[0m \u001b[0mkwds\u001b[0m\u001b[0;34m)\u001b[0m\u001b[0;34m\u001b[0m\u001b[0;34m\u001b[0m\u001b[0m\n\u001b[0m\u001b[1;32m    686\u001b[0m \u001b[0;34m\u001b[0m\u001b[0m\n\u001b[1;32m    687\u001b[0m     \u001b[0mparser_f\u001b[0m\u001b[0;34m.\u001b[0m\u001b[0m__name__\u001b[0m \u001b[0;34m=\u001b[0m \u001b[0mname\u001b[0m\u001b[0;34m\u001b[0m\u001b[0;34m\u001b[0m\u001b[0m\n",
      "\u001b[0;32m~/anaconda3/lib/python3.7/site-packages/pandas/io/parsers.py\u001b[0m in \u001b[0;36m_read\u001b[0;34m(filepath_or_buffer, kwds)\u001b[0m\n\u001b[1;32m    455\u001b[0m \u001b[0;34m\u001b[0m\u001b[0m\n\u001b[1;32m    456\u001b[0m     \u001b[0;31m# Create the parser.\u001b[0m\u001b[0;34m\u001b[0m\u001b[0;34m\u001b[0m\u001b[0;34m\u001b[0m\u001b[0m\n\u001b[0;32m--> 457\u001b[0;31m     \u001b[0mparser\u001b[0m \u001b[0;34m=\u001b[0m \u001b[0mTextFileReader\u001b[0m\u001b[0;34m(\u001b[0m\u001b[0mfp_or_buf\u001b[0m\u001b[0;34m,\u001b[0m \u001b[0;34m**\u001b[0m\u001b[0mkwds\u001b[0m\u001b[0;34m)\u001b[0m\u001b[0;34m\u001b[0m\u001b[0;34m\u001b[0m\u001b[0m\n\u001b[0m\u001b[1;32m    458\u001b[0m \u001b[0;34m\u001b[0m\u001b[0m\n\u001b[1;32m    459\u001b[0m     \u001b[0;32mif\u001b[0m \u001b[0mchunksize\u001b[0m \u001b[0;32mor\u001b[0m \u001b[0miterator\u001b[0m\u001b[0;34m:\u001b[0m\u001b[0;34m\u001b[0m\u001b[0;34m\u001b[0m\u001b[0m\n",
      "\u001b[0;32m~/anaconda3/lib/python3.7/site-packages/pandas/io/parsers.py\u001b[0m in \u001b[0;36m__init__\u001b[0;34m(self, f, engine, **kwds)\u001b[0m\n\u001b[1;32m    893\u001b[0m             \u001b[0mself\u001b[0m\u001b[0;34m.\u001b[0m\u001b[0moptions\u001b[0m\u001b[0;34m[\u001b[0m\u001b[0;34m\"has_index_names\"\u001b[0m\u001b[0;34m]\u001b[0m \u001b[0;34m=\u001b[0m \u001b[0mkwds\u001b[0m\u001b[0;34m[\u001b[0m\u001b[0;34m\"has_index_names\"\u001b[0m\u001b[0;34m]\u001b[0m\u001b[0;34m\u001b[0m\u001b[0;34m\u001b[0m\u001b[0m\n\u001b[1;32m    894\u001b[0m \u001b[0;34m\u001b[0m\u001b[0m\n\u001b[0;32m--> 895\u001b[0;31m         \u001b[0mself\u001b[0m\u001b[0;34m.\u001b[0m\u001b[0m_make_engine\u001b[0m\u001b[0;34m(\u001b[0m\u001b[0mself\u001b[0m\u001b[0;34m.\u001b[0m\u001b[0mengine\u001b[0m\u001b[0;34m)\u001b[0m\u001b[0;34m\u001b[0m\u001b[0;34m\u001b[0m\u001b[0m\n\u001b[0m\u001b[1;32m    896\u001b[0m \u001b[0;34m\u001b[0m\u001b[0m\n\u001b[1;32m    897\u001b[0m     \u001b[0;32mdef\u001b[0m \u001b[0mclose\u001b[0m\u001b[0;34m(\u001b[0m\u001b[0mself\u001b[0m\u001b[0;34m)\u001b[0m\u001b[0;34m:\u001b[0m\u001b[0;34m\u001b[0m\u001b[0;34m\u001b[0m\u001b[0m\n",
      "\u001b[0;32m~/anaconda3/lib/python3.7/site-packages/pandas/io/parsers.py\u001b[0m in \u001b[0;36m_make_engine\u001b[0;34m(self, engine)\u001b[0m\n\u001b[1;32m   1133\u001b[0m     \u001b[0;32mdef\u001b[0m \u001b[0m_make_engine\u001b[0m\u001b[0;34m(\u001b[0m\u001b[0mself\u001b[0m\u001b[0;34m,\u001b[0m \u001b[0mengine\u001b[0m\u001b[0;34m=\u001b[0m\u001b[0;34m\"c\"\u001b[0m\u001b[0;34m)\u001b[0m\u001b[0;34m:\u001b[0m\u001b[0;34m\u001b[0m\u001b[0;34m\u001b[0m\u001b[0m\n\u001b[1;32m   1134\u001b[0m         \u001b[0;32mif\u001b[0m \u001b[0mengine\u001b[0m \u001b[0;34m==\u001b[0m \u001b[0;34m\"c\"\u001b[0m\u001b[0;34m:\u001b[0m\u001b[0;34m\u001b[0m\u001b[0;34m\u001b[0m\u001b[0m\n\u001b[0;32m-> 1135\u001b[0;31m             \u001b[0mself\u001b[0m\u001b[0;34m.\u001b[0m\u001b[0m_engine\u001b[0m \u001b[0;34m=\u001b[0m \u001b[0mCParserWrapper\u001b[0m\u001b[0;34m(\u001b[0m\u001b[0mself\u001b[0m\u001b[0;34m.\u001b[0m\u001b[0mf\u001b[0m\u001b[0;34m,\u001b[0m \u001b[0;34m**\u001b[0m\u001b[0mself\u001b[0m\u001b[0;34m.\u001b[0m\u001b[0moptions\u001b[0m\u001b[0;34m)\u001b[0m\u001b[0;34m\u001b[0m\u001b[0;34m\u001b[0m\u001b[0m\n\u001b[0m\u001b[1;32m   1136\u001b[0m         \u001b[0;32melse\u001b[0m\u001b[0;34m:\u001b[0m\u001b[0;34m\u001b[0m\u001b[0;34m\u001b[0m\u001b[0m\n\u001b[1;32m   1137\u001b[0m             \u001b[0;32mif\u001b[0m \u001b[0mengine\u001b[0m \u001b[0;34m==\u001b[0m \u001b[0;34m\"python\"\u001b[0m\u001b[0;34m:\u001b[0m\u001b[0;34m\u001b[0m\u001b[0;34m\u001b[0m\u001b[0m\n",
      "\u001b[0;32m~/anaconda3/lib/python3.7/site-packages/pandas/io/parsers.py\u001b[0m in \u001b[0;36m__init__\u001b[0;34m(self, src, **kwds)\u001b[0m\n\u001b[1;32m   1915\u001b[0m         \u001b[0mkwds\u001b[0m\u001b[0;34m[\u001b[0m\u001b[0;34m\"usecols\"\u001b[0m\u001b[0;34m]\u001b[0m \u001b[0;34m=\u001b[0m \u001b[0mself\u001b[0m\u001b[0;34m.\u001b[0m\u001b[0musecols\u001b[0m\u001b[0;34m\u001b[0m\u001b[0;34m\u001b[0m\u001b[0m\n\u001b[1;32m   1916\u001b[0m \u001b[0;34m\u001b[0m\u001b[0m\n\u001b[0;32m-> 1917\u001b[0;31m         \u001b[0mself\u001b[0m\u001b[0;34m.\u001b[0m\u001b[0m_reader\u001b[0m \u001b[0;34m=\u001b[0m \u001b[0mparsers\u001b[0m\u001b[0;34m.\u001b[0m\u001b[0mTextReader\u001b[0m\u001b[0;34m(\u001b[0m\u001b[0msrc\u001b[0m\u001b[0;34m,\u001b[0m \u001b[0;34m**\u001b[0m\u001b[0mkwds\u001b[0m\u001b[0;34m)\u001b[0m\u001b[0;34m\u001b[0m\u001b[0;34m\u001b[0m\u001b[0m\n\u001b[0m\u001b[1;32m   1918\u001b[0m         \u001b[0mself\u001b[0m\u001b[0;34m.\u001b[0m\u001b[0munnamed_cols\u001b[0m \u001b[0;34m=\u001b[0m \u001b[0mself\u001b[0m\u001b[0;34m.\u001b[0m\u001b[0m_reader\u001b[0m\u001b[0;34m.\u001b[0m\u001b[0munnamed_cols\u001b[0m\u001b[0;34m\u001b[0m\u001b[0;34m\u001b[0m\u001b[0m\n\u001b[1;32m   1919\u001b[0m \u001b[0;34m\u001b[0m\u001b[0m\n",
      "\u001b[0;32mpandas/_libs/parsers.pyx\u001b[0m in \u001b[0;36mpandas._libs.parsers.TextReader.__cinit__\u001b[0;34m()\u001b[0m\n",
      "\u001b[0;32mpandas/_libs/parsers.pyx\u001b[0m in \u001b[0;36mpandas._libs.parsers.TextReader._setup_parser_source\u001b[0;34m()\u001b[0m\n",
      "\u001b[0;31mFileNotFoundError\u001b[0m: [Errno 2] File b'/ccb/salz8-1/avaraby/tx_noise/full_analysis_25022020/GTEx_aggs/res.num_tx_per_sample_loc5' does not exist: b'/ccb/salz8-1/avaraby/tx_noise/full_analysis_25022020/GTEx_aggs/res.num_tx_per_sample_loc5'"
     ]
    }
   ],
   "source": [
    "sample_stats = pd.read_csv(base_dir_out+\"res.num_tx_per_sample_loc5\")\n",
    "sample_stats[\"frac_real\"] = sample_stats[\"total_tpm_real\"]/(sample_stats[\"total_tpm_real\"]+\\\n",
    "                                                            sample_stats[\"total_tpm_splicing\"]+\\\n",
    "                                                            sample_stats[\"total_tpm_intronic\"])\n",
    "sample_stats[\"total_noise\"] = sample_stats[\"total_tpm_splicing\"]+sample_stats[\"total_tpm_intronic\"]\n",
    "total_real = sample_stats[\"total_tpm_real\"].sum()\n",
    "total_real_noise = sample_stats[\"total_tpm_splicing\"].sum()+sample_stats[\"total_tpm_intronic\"].sum()\n",
    "total_intergenic_noise = sample_stats[\"total_tpm_polymerase\"].sum()\n",
    "\n",
    "print(\"fraction of real expression per sample on average: \"+str(total_real/(total_intergenic_noise+total_real_noise+total_real)))\n",
    "\n",
    "\n"
   ]
  },
  {
   "cell_type": "code",
   "execution_count": null,
   "metadata": {},
   "outputs": [],
   "source": []
  },
  {
   "cell_type": "code",
   "execution_count": null,
   "metadata": {},
   "outputs": [],
   "source": []
  },
  {
   "cell_type": "code",
   "execution_count": null,
   "metadata": {},
   "outputs": [],
   "source": []
  },
  {
   "cell_type": "code",
   "execution_count": null,
   "metadata": {},
   "outputs": [],
   "source": []
  },
  {
   "cell_type": "code",
   "execution_count": 20,
   "metadata": {},
   "outputs": [
    {
     "name": "stdout",
     "output_type": "stream",
     "text": [
      "total real expression: 305163.7665832051\n",
      "total splicing expression: 82392.65604848394\n",
      "total intronic expression: 2986.2175629383746\n",
      "total polymerase expression: 2119.3822829752944\n",
      "fraction of real expression: 0.7771664920831796\n"
     ]
    }
   ],
   "source": [
    "er = joined[\"tpm_real\"].sum()\n",
    "print(\"total real expression: \"+str(er))\n",
    "es = joined[\"tpm_splicing\"].sum()\n",
    "print(\"total splicing expression: \"+str(es))\n",
    "ei = joined[\"tpm_intronic\"].sum()\n",
    "print(\"total intronic expression: \"+str(ei))\n",
    "ep = pole.tpm.sum()\n",
    "print(\"total polymerase expression: \"+str(ep))\n",
    "print(\"fraction of real expression: \"+str(er/(er+es+ei+ep)))"
   ]
  },
  {
   "cell_type": "code",
   "execution_count": 21,
   "metadata": {},
   "outputs": [
    {
     "name": "stdout",
     "output_type": "stream",
     "text": [
      "number of loci: 18629\n",
      "number of real only loci: 9679\n"
     ]
    }
   ],
   "source": [
    "# is it because there are many real_only loci?\n",
    "print(\"number of loci: \"+str(len(set(joined[\"gid\"]))))\n",
    "print(\"number of real only loci: \"+str(len(set(joined[(joined[\"nt_splicing\"]==0)&(joined[\"nt_intronic\"]==0)][\"gid\"]))))"
   ]
  },
  {
   "cell_type": "code",
   "execution_count": 22,
   "metadata": {},
   "outputs": [
    {
     "name": "stdout",
     "output_type": "stream",
     "text": [
      "total real expression: 96829.19721836215\n",
      "total splicing expression: 82392.65604848393\n",
      "total intronic expression: 2986.217562938375\n",
      "fraction of real expression: 0.5314210110309453\n"
     ]
    }
   ],
   "source": [
    "er = joined[(joined[\"nt_splicing\"]>0)|(joined[\"nt_intronic\"]>0)][\"tpm_real\"].sum()\n",
    "print(\"total real expression: \"+str(er))\n",
    "es = joined[(joined[\"nt_splicing\"]>0)|(joined[\"nt_intronic\"]>0)][\"tpm_splicing\"].sum()\n",
    "print(\"total splicing expression: \"+str(es))\n",
    "ei = joined[(joined[\"nt_splicing\"]>0)|(joined[\"nt_intronic\"]>0)][\"tpm_intronic\"].sum()\n",
    "print(\"total intronic expression: \"+str(ei))\n",
    "print(\"fraction of real expression: \"+str(er/(er+es+ei)))"
   ]
  },
  {
   "cell_type": "code",
   "execution_count": 23,
   "metadata": {},
   "outputs": [
    {
     "data": {
      "text/plain": [
       "<matplotlib.legend.Legend at 0x7fe03915f518>"
      ]
     },
     "execution_count": 23,
     "metadata": {},
     "output_type": "execute_result"
    },
    {
     "data": {
      "image/png": "[encoded data removed]",
      "text/plain": [
       "<Figure size 1000x700 with 1 Axes>"
      ]
     },
     "metadata": {
      "needs_background": "light"
     },
     "output_type": "display_data"
    }
   ],
   "source": [
    "# fig = plt.subplots(figsize=(10,7),dpi=100)\n",
    "# # plt.hist(joined[joined[\"frac\"]<1.0][\"frac\"],alpha=0.5,bins=100,label='real')\n",
    "# plt.hist(joined[(joined[\"frac_tpm_real\"]>0.0001)][\"frac_tpm_real\"],alpha=0.5,bins=100,label='real')\n",
    "# plt.hist(joined[(joined[\"frac_tpm_splicing\"]>0.0001)][\"frac_tpm_splicing\"],alpha=0.5,bins=100,label='splicing')\n",
    "# plt.hist(joined[(joined[\"frac_tpm_intronic\"]>0.0001)][\"frac_tpm_intronic\"],alpha=0.5,bins=100,label='intronic')\n",
    "# plt.legend(loc='upper right')\n",
    "\n",
    "\n",
    "fig = plt.subplots(figsize=(10,7),dpi=100)\n",
    "# plt.hist(joined[joined[\"frac\"]<1.0][\"frac\"],alpha=0.5,bins=100,label='real')\n",
    "plt.hist(joined[(joined[\"frac_tpm_real\"]>0.0001)&(joined[\"frac_tpm_real\"]<1.0)][\"frac_tpm_real\"],alpha=0.5,bins=100,label='real')\n",
    "# plt.hist(joined[(joined[\"frac_tpm_splicing\"]>0.0001)&(joined[\"frac_tpm_splicing\"]<1.0)][\"frac_tpm_splicing\"],alpha=0.5,bins=100,label='splicing')\n",
    "# plt.hist(joined[(joined[\"frac_tpm_intronic\"]>0.0001)&(joined[\"frac_tpm_intronic\"]<1.0)][\"frac_tpm_intronic\"],alpha=0.5,bins=100,label='intronic')\n",
    "plt.legend(loc='upper right')"
   ]
  }
 ],
 "metadata": {
  "kernelspec": {
   "display_name": "Python 3",
   "language": "python",
   "name": "python3"
  },
  "language_info": {
   "codemirror_mode": {
    "name": "ipython",
    "version": 3
   },
   "file_extension": ".py",
   "mimetype": "text/x-python",
   "name": "python",
   "nbconvert_exporter": "python",
   "pygments_lexer": "ipython3",
   "version": "3.7.3"
  }
 },
 "nbformat": 4,
 "nbformat_minor": 2
}
