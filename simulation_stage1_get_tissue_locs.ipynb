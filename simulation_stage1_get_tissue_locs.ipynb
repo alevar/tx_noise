{
 "cells": [
  {
   "cell_type": "code",
   "execution_count": 2,
   "metadata": {},
   "outputs": [],
   "source": [
    "import pandas as pd\n",
    "import numpy as np\n",
    "import subprocess\n",
    "import random\n",
    "from scipy import stats\n",
    "import glob\n",
    "import math\n",
    "import csv\n",
    "import sys\n",
    "import os\n",
    "\n",
    "import matplotlib.pyplot as plt\n",
    "from matplotlib import animation\n",
    "import seaborn as sns\n",
    "plt.rcParams['figure.figsize'] = (20.0, 10.0)\n",
    "plt.rcParams['font.family'] = \"serif\"\n",
    "%matplotlib inline"
   ]
  },
  {
   "cell_type": "code",
   "execution_count": null,
   "metadata": {},
   "outputs": [],
   "source": [
    "# the goal here is to create a better way of pre-selecting a pool of transcripts for the tissue\n",
    "# from within which the samples are going to be generated\n",
    "\n",
    "# currently, we have way too many transcripts in the tissue pool (while the number of loci is ok)"
   ]
  },
  {
   "cell_type": "code",
   "execution_count": 2,
   "metadata": {},
   "outputs": [],
   "source": [
    "# let's begin putting together the transcriptome simulation set\n",
    "\n",
    "# What we need\n",
    "# number of transcripts to simulate (what is an average number of transcripts per tissue?)\n",
    "# number of loci (average for a tissue)\n",
    "# for each locus need to draw the number of transcripts of each category, such that the final distributions\n",
    "#     are close to tissue averages\n",
    "\n",
    "# then for each transcript need to draw from the distribution of total contribution to expression\n",
    "#     such that the final distributions resemble those observed in real data"
   ]
  },
  {
   "cell_type": "code",
   "execution_count": 3,
   "metadata": {},
   "outputs": [],
   "source": [
    "# declarations\n",
    "base_dir_data = \"/ccb/salz8-1/avaraby/tx_noise/data/\"\n",
    "base_dir_out = \"/ccb/salz8-1/avaraby/tx_noise/full_analysis_t3_s10/GTEx_aggs/\"\n",
    "out_dir = \"/ccb/salz8-1/avaraby/tx_noise/full_analysis_t3_s10/sim_samples/\"\n",
    "\n",
    "num_tissues = 3\n",
    "\n",
    "gff3cols=[\"seqid\",\"source\",\"type\",\"start\",\"end\",\"score\",\"strand\",\"phase\",\"attributes\"]"
   ]
  },
  {
   "cell_type": "code",
   "execution_count": 4,
   "metadata": {},
   "outputs": [
    {
     "name": "stdout",
     "output_type": "stream",
     "text": [
      ">>>loading base annotations\n"
     ]
    }
   ],
   "source": [
    "# STAGE - 1 - generating sample specific gtfs\n",
    "\n",
    "# load base annotations\n",
    "print(\">>>loading base annotations\")\n",
    "real_baseDF = pd.read_csv(base_dir_data+\"real.gtf\",sep=\"\\t\",names=gff3cols)\n",
    "real_baseDF = real_baseDF[(real_baseDF[\"type\"]==\"transcript\") & (real_baseDF[\"strand\"].isin([\"+\",\"-\"]))].reset_index(drop=True)\n",
    "\n",
    "splice_baseDF = pd.read_csv(base_dir_data+\"splicing.gtf\",sep=\"\\t\",names=gff3cols)\n",
    "splice_baseDF = splice_baseDF[(splice_baseDF[\"type\"]==\"transcript\") & (splice_baseDF[\"strand\"].isin([\"+\",\"-\"]))].reset_index(drop=True)\n",
    "\n",
    "int_baseDF = pd.read_csv(base_dir_data+\"intronic.gtf\",sep=\"\\t\",names=gff3cols)\n",
    "int_baseDF = int_baseDF[(int_baseDF[\"type\"]==\"transcript\") & (int_baseDF[\"strand\"].isin([\"+\",\"-\"]))].reset_index(drop=True)\n",
    "\n",
    "pol_baseDF = pd.read_csv(base_dir_data+\"RNApol.gtf\",sep=\"\\t\",names=gff3cols)\n",
    "pol_baseDF = pol_baseDF[pol_baseDF[\"type\"]==\"transcript\"].reset_index(drop=True)"
   ]
  },
  {
   "cell_type": "code",
   "execution_count": 5,
   "metadata": {},
   "outputs": [
    {
     "name": "stdout",
     "output_type": "stream",
     "text": [
      ">>>getting loci IDs\n",
      "starting number of real noise loci: 40206\n",
      "starting number of splicing noise loci: 39058\n",
      "starting number of intronic loci: 27192\n",
      "starting number of polymerase loci: 638709\n"
     ]
    }
   ],
   "source": [
    "# get all loci and transcript IDs\n",
    "print(\">>>getting loci IDs\")\n",
    "real_baseDF[\"lid\"] = real_baseDF[\"attributes\"].str.split(\"gene_id \\\"\",expand=True,n=1)[1].str.split(\"\\\"\",expand=True,n=1)[0]\n",
    "splice_baseDF[\"lid\"] = splice_baseDF[\"attributes\"].str.split(\"gene_id \\\"\",expand=True,n=1)[1].str.split(\"\\\"\",expand=True,n=1)[0]\n",
    "int_baseDF[\"lid\"] = int_baseDF[\"attributes\"].str.split(\"gene_id \\\"\",expand=True,n=1)[1].str.split(\"\\\"\",expand=True,n=1)[0]\n",
    "pol_baseDF[\"lid\"] = pol_baseDF[\"attributes\"].str.split(\"gene_id \\\"\",expand=True,n=1)[1].str.split(\"\\\"\",expand=True,n=1)[0]\n",
    "real_locs = set(real_baseDF[\"lid\"])\n",
    "splice_locs = set(splice_baseDF[\"lid\"])\n",
    "int_locs = set(int_baseDF[\"lid\"])\n",
    "pol_locs = set(pol_baseDF[\"lid\"])\n",
    "print(\"starting number of real noise loci: \"+str(len(real_locs)))\n",
    "print(\"starting number of splicing noise loci: \"+str(len(splice_locs)))\n",
    "print(\"starting number of intronic loci: \"+str(len(int_locs)))\n",
    "print(\"starting number of polymerase loci: \"+str(len(pol_locs)))"
   ]
  },
  {
   "cell_type": "code",
   "execution_count": 6,
   "metadata": {},
   "outputs": [
    {
     "name": "stdout",
     "output_type": "stream",
     "text": [
      "number of real transcripts: 301626\n",
      "number of real genes: 40206\n",
      "number of splicing transcripts: 11497993\n",
      "number of splicing genes: 39058\n",
      "number of intronic transcripts: 5839526\n",
      "number of intronic genes: 27192\n",
      "number of intergenic transcripts: 3109133\n",
      "number of intergenic genes: 638709\n"
     ]
    }
   ],
   "source": [
    "# perform cleanup, by removing any loci in \n",
    "#   1. int that are also in real\n",
    "#   2. splice that are not in real\n",
    "#   3. pol that are in real\n",
    "int_locs = int_locs - int_locs.difference(real_locs)\n",
    "assert(len(int_locs.difference(real_locs))==0),\"something wrong intronic\"\n",
    "int_baseDF = int_baseDF[int_baseDF[\"lid\"].isin(int_locs)].reset_index(drop=True)\n",
    "\n",
    "splice_locs = splice_locs - splice_locs.difference(real_locs)\n",
    "assert(len(splice_locs) == len(real_locs.intersection(splice_locs))),\"something wrong non-intronic\"\n",
    "splice_baseDF = splice_baseDF[splice_baseDF[\"lid\"].isin(splice_locs)].reset_index(drop=True)\n",
    "\n",
    "pol_locs = pol_locs - real_locs.intersection(pol_locs)\n",
    "assert(len(real_locs.intersection(pol_locs))==0),\"something wrong polymerase\"\n",
    "pol_baseDF = pol_baseDF[pol_baseDF[\"lid\"].isin(pol_locs)].reset_index(drop=True)\n",
    "\n",
    "real_baseDF[\"tid\"] = real_baseDF[\"attributes\"].str.split(\"transcript_id \\\"\",expand=True,n=1)[1].str.split(\"\\\"\",expand=True,n=1)[0]\n",
    "real_baseDF = real_baseDF[[\"lid\",\"tid\"]]\n",
    "splice_baseDF[\"tid\"] = splice_baseDF[\"attributes\"].str.split(\"transcript_id \\\"\",expand=True,n=1)[1].str.split(\"\\\"\",expand=True,n=1)[0]\n",
    "splice_baseDF = splice_baseDF[[\"lid\",\"tid\"]]\n",
    "int_baseDF[\"tid\"] = int_baseDF[\"attributes\"].str.split(\"transcript_id \\\"\",expand=True,n=1)[1].str.split(\"\\\"\",expand=True,n=1)[0]\n",
    "int_baseDF = int_baseDF[[\"lid\",\"tid\"]]\n",
    "pol_baseDF[\"tid\"] = pol_baseDF[\"attributes\"].str.split(\"transcript_id \\\"\",expand=True,n=1)[1].str.split(\"\\\"\",expand=True,n=1)[0]\n",
    "pol_baseDF = pol_baseDF[[\"lid\",\"tid\"]]\n",
    "\n",
    "print(\"number of real transcripts: \"+str(len(real_baseDF[\"tid\"])))\n",
    "print(\"number of real genes: \"+str(len(set(real_baseDF[\"lid\"]))))\n",
    "\n",
    "print(\"number of splicing transcripts: \"+str(len(splice_baseDF[\"tid\"])))\n",
    "print(\"number of splicing genes: \"+str(len(set(splice_baseDF[\"lid\"]))))\n",
    "\n",
    "print(\"number of intronic transcripts: \"+str(len(int_baseDF[\"tid\"])))\n",
    "print(\"number of intronic genes: \"+str(len(set(int_baseDF[\"lid\"]))))\n",
    "\n",
    "print(\"number of intergenic transcripts: \"+str(len(pol_baseDF[\"tid\"])))\n",
    "print(\"number of intergenic genes: \"+str(len(set(pol_baseDF[\"lid\"]))))"
   ]
  },
  {
   "cell_type": "code",
   "execution_count": 7,
   "metadata": {},
   "outputs": [
    {
     "name": "stdout",
     "output_type": "stream",
     "text": [
      "30161.48275862069 2415.8275862068963\n",
      "31389.793103448275 9445.264367816091\n"
     ]
    },
    {
     "data": {
      "image/png": "[encoded data removed]",
      "text/plain": [
       "<Figure size 432x288 with 1 Axes>"
      ]
     },
     "metadata": {
      "needs_background": "light"
     },
     "output_type": "display_data"
    }
   ],
   "source": [
    "# load the distribution of the number of real and noise loci per tissue first\n",
    "t_loc = pd.read_csv(base_dir_out+\"res.num_locs_tissue\")\n",
    "\n",
    "# now we shall remove any outliers from the data\n",
    "q25,q50,q75 = t_loc['real'].quantile([0.25,0.5,0.75])\n",
    "iqr = q75-q25\n",
    "thw = q75+1.5*iqr\n",
    "tlw = q25-1.5*iqr\n",
    "ahw = t_loc[t_loc[\"real\"]<=thw][\"real\"].max()\n",
    "alw = t_loc[t_loc[\"real\"]>=tlw][\"real\"].min()\n",
    "t_loc = t_loc[(t_loc['real']<=ahw)&(t_loc['real']>=alw)]\n",
    "\n",
    "q25,q50,q75 = t_loc['intergenic'].quantile([0.25,0.5,0.75])\n",
    "iqr = q75-q25\n",
    "thw = q75+1.5*iqr\n",
    "tlw = q25-1.5*iqr\n",
    "ahw = t_loc[t_loc[\"intergenic\"]<=thw][\"intergenic\"].max()\n",
    "alw = t_loc[t_loc[\"intergenic\"]>=tlw][\"intergenic\"].min()\n",
    "t_loc = t_loc[(t_loc['intergenic']<=ahw)&(t_loc['intergenic']>=alw)]\n",
    "\n",
    "std_real = (t_loc[\"real\"].mean()-t_loc[\"real\"].min())/3\n",
    "std_intergenic = (t_loc[\"intergenic\"].mean()-t_loc[\"intergenic\"].min())/3\n",
    "print(t_loc[\"real\"].mean(),std_real)\n",
    "print(t_loc[\"intergenic\"].mean(),std_intergenic)\n",
    "\n",
    "fig,ax = plt.subplots()\n",
    "ax.boxplot(t_loc.T,labels=t_loc.T.index.tolist())\n",
    "plt.show()"
   ]
  },
  {
   "cell_type": "code",
   "execution_count": 8,
   "metadata": {},
   "outputs": [
    {
     "name": "stdout",
     "output_type": "stream",
     "text": [
      "\n",
      "=================\n",
      "Tissue #0\n",
      "=================\n",
      "\n",
      "selecting 31218 real loci\n",
      "selecting 29016 intergenic loci\n",
      "number of all real loci: 40206\n",
      "number of real transcripts: 234697\n",
      "number of real genes: 31218\n",
      "number of splicing transcripts: 8916670\n",
      "number of splicing genes: 30323\n",
      "number of intronic transcripts: 4507952\n",
      "number of intronic genes: 21180\n",
      "number of intergenic transcripts: 148704\n",
      "number of intergenic genes: 29016\n",
      "\n",
      "=================\n",
      "Tissue #1\n",
      "=================\n",
      "\n",
      "selecting 29592 real loci\n",
      "selecting 39563 intergenic loci\n",
      "number of all real loci: 40206\n",
      "number of real transcripts: 223113\n",
      "number of real genes: 29592\n",
      "number of splicing transcripts: 8510062\n",
      "number of splicing genes: 28777\n",
      "number of intronic transcripts: 4339048\n",
      "number of intronic genes: 20000\n",
      "number of intergenic transcripts: 182621\n",
      "number of intergenic genes: 39563\n",
      "\n",
      "=================\n",
      "Tissue #2\n",
      "=================\n",
      "\n",
      "selecting 25849 real loci\n",
      "selecting 23659 intergenic loci\n",
      "number of all real loci: 40206\n",
      "number of real transcripts: 192745\n",
      "number of real genes: 25849\n",
      "number of splicing transcripts: 7317687\n",
      "number of splicing genes: 25111\n",
      "number of intronic transcripts: 3789525\n",
      "number of intronic genes: 17469\n",
      "number of intergenic transcripts: 123172\n",
      "number of intergenic genes: 23659\n"
     ]
    }
   ],
   "source": [
    "for tissue_num in range(num_tissues):\n",
    "    print(\"\\n=================\\nTissue #\"+str(tissue_num)+\"\\n=================\\n\")\n",
    "    # instead of sampling from the actual values we can get it from a distribution (assuming 2 independent gaussians)\n",
    "    ctlr = int(np.random.normal(t_loc[\"real\"].mean(),std_real,1)[0])\n",
    "    ctln = int(np.random.normal(t_loc[\"intergenic\"].mean(),std_intergenic,1)[0])\n",
    "\n",
    "    print(\"selecting \"+str(ctlr)+\" real loci\")\n",
    "    print(\"selecting \"+str(ctln)+\" intergenic loci\")\n",
    "    \n",
    "    all_real_locs = real_locs.union(splice_locs.union(int_locs))\n",
    "    print(\"number of all real loci: \"+str(len(all_real_locs)))\n",
    "\n",
    "    all_real_locs_rand = np.random.choice(list(all_real_locs),ctlr, replace=False)\n",
    "    pol_locs_rand = np.random.choice(list(pol_locs),ctln, replace=False)\n",
    "\n",
    "    real_baseDF_sub1 = real_baseDF[real_baseDF[\"lid\"].isin(all_real_locs_rand)].reset_index(drop=True)\n",
    "    splice_baseDF_sub1 = splice_baseDF[splice_baseDF[\"lid\"].isin(all_real_locs_rand)].reset_index(drop=True)\n",
    "    int_baseDF_sub1 = int_baseDF[int_baseDF[\"lid\"].isin(all_real_locs_rand)].reset_index(drop=True)\n",
    "    pol_baseDF_sub1 = pol_baseDF[pol_baseDF[\"lid\"].isin(pol_locs_rand)].reset_index(drop=True)\n",
    "\n",
    "    real_baseDF_sub1.to_csv(out_dir+\"stage1_tissue_locs.real_t\"+str(tissue_num),index=False)\n",
    "    splice_baseDF_sub1.to_csv(out_dir+\"stage1_tissue_locs.splice_t\"+str(tissue_num),index=False)\n",
    "    int_baseDF_sub1.to_csv(out_dir+\"stage1_tissue_locs.int_t\"+str(tissue_num),index=False)\n",
    "    pol_baseDF_sub1.to_csv(out_dir+\"stage1_tissue_locs.pol_t\"+str(tissue_num),index=False)\n",
    "\n",
    "    print(\"number of real transcripts: \"+str(len(real_baseDF_sub1[\"tid\"])))\n",
    "    print(\"number of real genes: \"+str(len(set(real_baseDF_sub1[\"lid\"]))))\n",
    "\n",
    "    print(\"number of splicing transcripts: \"+str(len(splice_baseDF_sub1[\"tid\"])))\n",
    "    print(\"number of splicing genes: \"+str(len(set(splice_baseDF_sub1[\"lid\"]))))\n",
    "\n",
    "    print(\"number of intronic transcripts: \"+str(len(int_baseDF_sub1[\"tid\"])))\n",
    "    print(\"number of intronic genes: \"+str(len(set(int_baseDF_sub1[\"lid\"]))))\n",
    "\n",
    "    print(\"number of intergenic transcripts: \"+str(len(pol_baseDF_sub1[\"tid\"])))\n",
    "    print(\"number of intergenic genes: \"+str(len(set(pol_baseDF_sub1[\"lid\"]))))"
   ]
  }
 ],
 "metadata": {
  "kernelspec": {
   "display_name": "Python 3",
   "language": "python",
   "name": "python3"
  },
  "language_info": {
   "codemirror_mode": {
    "name": "ipython",
    "version": 3
   },
   "file_extension": ".py",
   "mimetype": "text/x-python",
   "name": "python",
   "nbconvert_exporter": "python",
   "pygments_lexer": "ipython3",
   "version": "3.7.3"
  }
 },
 "nbformat": 4,
 "nbformat_minor": 2
}
