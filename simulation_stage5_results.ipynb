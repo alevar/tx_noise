{
 "cells": [
  {
   "cell_type": "code",
   "execution_count": 1,
   "metadata": {},
   "outputs": [],
   "source": [
    "import pandas as pd\n",
    "import numpy as np\n",
    "import subprocess\n",
    "import random\n",
    "from scipy import stats\n",
    "import glob\n",
    "import math\n",
    "import csv\n",
    "import sys\n",
    "import os\n",
    "\n",
    "import matplotlib.pyplot as plt\n",
    "from matplotlib import animation\n",
    "import seaborn as sns\n",
    "plt.rcParams['figure.figsize'] = (20.0, 10.0)\n",
    "plt.rcParams['font.family'] = \"serif\"\n",
    "%matplotlib inline"
   ]
  },
  {
   "cell_type": "code",
   "execution_count": 2,
   "metadata": {},
   "outputs": [],
   "source": [
    "# declarations\n",
    "base_dir_data = \"/ccb/salz8-1/avaraby/tx_noise/data/\"\n",
    "base_dir_out = \"/ccb/salz8-1/avaraby/tx_noise/full_analysis_25022020/GTEx_aggs/\"\n",
    "out_dir = \"/ccb/salz8-1/avaraby/tx_noise/full_analysis_25022020/sim_samples/\"\n",
    "\n",
    "readlen = 101\n",
    "\n",
    "gff3cols=[\"seqid\",\"source\",\"type\",\"start\",\"end\",\"score\",\"strand\",\"phase\",\"attributes\"]"
   ]
  },
  {
   "cell_type": "code",
   "execution_count": 3,
   "metadata": {
    "scrolled": false
   },
   "outputs": [
    {
     "data": {
      "image/png": "[encoded data removed]",
      "text/plain": [
       "<Figure size 432x288 with 1 Axes>"
      ]
     },
     "metadata": {
      "needs_background": "light"
     },
     "output_type": "display_data"
    },
    {
     "data": {
      "image/png": "[encoded data removed]",
      "text/plain": [
       "<Figure size 432x288 with 1 Axes>"
      ]
     },
     "metadata": {
      "needs_background": "light"
     },
     "output_type": "display_data"
    },
    {
     "data": {
      "image/png": "[encoded data removed]",
      "text/plain": [
       "<Figure size 432x288 with 1 Axes>"
      ]
     },
     "metadata": {
      "needs_background": "light"
     },
     "output_type": "display_data"
    }
   ],
   "source": [
    "# load the distribution of the number of real and noise loci per tissue first\n",
    "t_loc = pd.read_csv(base_dir_out+\"res.num_locs_tissue\")\n",
    "\n",
    "fig,ax = plt.subplots()\n",
    "ax.boxplot(t_loc.T,labels=t_loc.T.index.tolist())\n",
    "plt.show()\n",
    "\n",
    "\n",
    "# now should subset the tissue tx/loc\n",
    "# based on the number of loci per sample\n",
    "s_loc = pd.read_csv(base_dir_out+\"res.num_locs_sample\")\n",
    "s_loc\n",
    "\n",
    "fig,ax = plt.subplots()\n",
    "ax.boxplot(s_loc.T,labels=s_loc.T.index.tolist())\n",
    "\n",
    "tx_ns = pd.read_csv(base_dir_out+\"res.num_tx_per_sample\")\n",
    "tx_ns.head()\n",
    "fig,ax = plt.subplots()\n",
    "ax.boxplot(tx_ns[[\"real\",\"splicing\",\"intronic\",\"polymerase\"]].T,labels=tx_ns[[\"real\",\"splicing\",\"intronic\",\"polymerase\"]].T.index.tolist())\n",
    "plt.show()\n",
    "\n",
    "plt.show()"
   ]
  },
  {
   "cell_type": "code",
   "execution_count": 16,
   "metadata": {},
   "outputs": [
    {
     "name": "stdout",
     "output_type": "stream",
     "text": [
      "number of real genes in the sample: 14938\n",
      "number of intergenic genes in the sample: 3291\n"
     ]
    }
   ],
   "source": [
    "# load the distribution of the number of real and noise loci per tissue first\n",
    "real = pd.read_csv(out_dir+\"real.sample0.gtf\",sep=\"\\t\",names=gff3cols)\n",
    "real[\"tid\"] = real[\"attributes\"].str.split(\"transcript_id \\\"\",expand=True)[1].str.split(\"\\\"\",expand=True)[0]\n",
    "real[\"gid\"] = real[\"attributes\"].str.split(\"gene_id \\\"\",expand=True)[1].str.split(\"\\\"\",expand=True)[0]\n",
    "sim_real_set = set(real[\"gid\"])\n",
    "\n",
    "splicing = pd.read_csv(out_dir+\"splicing.sample0.gtf\",sep=\"\\t\",names=gff3cols)\n",
    "splicing[\"tid\"] = splicing[\"attributes\"].str.split(\"transcript_id \\\"\",expand=True)[1].str.split(\"\\\"\",expand=True)[0]\n",
    "splicing[\"gid\"] = splicing[\"attributes\"].str.split(\"gene_id \\\"\",expand=True)[1].str.split(\"\\\"\",expand=True)[0]\n",
    "sim_splicing_set = set(splicing[\"gid\"])\n",
    "\n",
    "intronic = pd.read_csv(out_dir+\"intronic.sample0.gtf\",sep=\"\\t\",names=gff3cols)\n",
    "intronic[\"tid\"] = intronic[\"attributes\"].str.split(\"transcript_id \\\"\",expand=True)[1].str.split(\"\\\"\",expand=True)[0]\n",
    "intronic[\"gid\"] = intronic[\"attributes\"].str.split(\"gene_id \\\"\",expand=True)[1].str.split(\"\\\"\",expand=True)[0]\n",
    "sim_intronic_set = set(intronic[\"gid\"])\n",
    "\n",
    "pol = pd.read_csv(out_dir+\"pol.sample0.gtf\",sep=\"\\t\",names=gff3cols)\n",
    "pol[\"tid\"] = pol[\"attributes\"].str.split(\"transcript_id \\\"\",expand=True)[1].str.split(\"\\\"\",expand=True)[0]\n",
    "pol[\"gid\"] = pol[\"attributes\"].str.split(\"gene_id \\\"\",expand=True)[1].str.split(\"\\\"\",expand=True)[0]\n",
    "sim_pol_set = set(pol[\"gid\"])\n",
    "\n",
    "print(\"number of real genes in the sample: \"+str(len(sim_real_set.union(sim_splicing_set.union(sim_intronic_set)))))\n",
    "print(\"number of intergenic genes in the sample: \"+str(len(sim_pol_set)))"
   ]
  },
  {
   "cell_type": "code",
   "execution_count": 17,
   "metadata": {},
   "outputs": [
    {
     "name": "stdout",
     "output_type": "stream",
     "text": [
      "number of real transcripts: 31830\n",
      "number of splicing transcripts: 4118\n",
      "number of intronic transcripts: 136\n",
      "number of pol transcripts: 3610\n"
     ]
    }
   ],
   "source": [
    "# Now to investigate the sample information now need to get the same numbers from the current sample\n",
    "real = pd.read_csv(out_dir+\"real.sample0.gtf\",sep=\"\\t\",names=gff3cols)\n",
    "real[\"tid\"] = real[\"attributes\"].str.split(\"transcript_id \\\"\",expand=True)[1].str.split(\"\\\"\",expand=True)[0]\n",
    "\n",
    "splicing = pd.read_csv(out_dir+\"splicing.sample0.gtf\",sep=\"\\t\",names=gff3cols)\n",
    "splicing[\"tid\"] = splicing[\"attributes\"].str.split(\"transcript_id \\\"\",expand=True)[1].str.split(\"\\\"\",expand=True)[0]\n",
    "\n",
    "intronic = pd.read_csv(out_dir+\"intronic.sample0.gtf\",sep=\"\\t\",names=gff3cols)\n",
    "intronic[\"tid\"] = intronic[\"attributes\"].str.split(\"transcript_id \\\"\",expand=True)[1].str.split(\"\\\"\",expand=True)[0]\n",
    "\n",
    "pol = pd.read_csv(out_dir+\"pol.sample0.gtf\",sep=\"\\t\",names=gff3cols)\n",
    "pol[\"tid\"] = pol[\"attributes\"].str.split(\"transcript_id \\\"\",expand=True)[1].str.split(\"\\\"\",expand=True)[0]\n",
    "print(\"number of real transcripts: \"+str(len(set(real[\"tid\"]))))\n",
    "print(\"number of splicing transcripts: \"+str(len(set(splicing[\"tid\"]))))\n",
    "print(\"number of intronic transcripts: \"+str(len(set(intronic[\"tid\"]))))\n",
    "print(\"number of pol transcripts: \"+str(len(set(pol[\"tid\"]))))"
   ]
  }
 ],
 "metadata": {
  "kernelspec": {
   "display_name": "Python 3",
   "language": "python",
   "name": "python3"
  },
  "language_info": {
   "codemirror_mode": {
    "name": "ipython",
    "version": 3
   },
   "file_extension": ".py",
   "mimetype": "text/x-python",
   "name": "python",
   "nbconvert_exporter": "python",
   "pygments_lexer": "ipython3",
   "version": "3.7.3"
  }
 },
 "nbformat": 4,
 "nbformat_minor": 2
}
